{
 "metadata": {
  "name": ""
 },
 "nbformat": 3,
 "nbformat_minor": 0,
 "worksheets": [
  {
   "cells": [
    {
     "cell_type": "code",
     "collapsed": false,
     "input": [
      "from openopt import *\n",
      "from numpy import sin, cos\n",
      "\n",
      "N = 15\n",
      "\n",
      "items = [\n",
      "         {\n",
      "         'name': 'item %d' % i, # name of item or item type\n",
      "         'weight': 1.5*(cos(i)+1)**2,\n",
      "         'volume': 2*sin(i) + 3,\n",
      "         'n':  1 if i < N/3 else 2 if i < 2*N/3 else 3 # optional: number of items of the type, \"1\" by default\n",
      "         }\n",
      "         for i in range(N)\n",
      "         ]\n",
      "bins = {\n",
      "'volume': 35, # max volume the bin can store\n",
      "'weight': 30,  # max weight the bin can handle\n",
      "\n",
      "# Optional: number of available bins or a good estimation of opt value (no less than the value), \n",
      "# it can ESSENTIALLY speedup computations\n",
      "'n': 5\n",
      "}\n",
      "# optional:\n",
      "# we can add some constraints, each one will affect each bin\n",
      "constraints = lambda values: 2*values['volume']+0.5*values['weight'] <70\n",
      "# to add several constraints use constraints = [list_of_constraints],\n",
      "# e.g. constraints = [lambda v: 2*v['volume']+0.5*v['weight'] <70, lambda v: 4*v['volume']+0.25*v['weight'] >7]\n",
      "p = BPP(items, bins, constraints = constraints)\n",
      "r = p.solve('glpk', iprint = 0) # requires cvxopt and glpk installed, see http://openopt.org/BPP for other solvers\n",
      "'''------------------------- OpenOpt 0.50 -------------------------\n",
      "solver: glpk   problem: unnamed    type: MILP   goal: min\n",
      " iter   objFunVal   log10(maxResidual)   \n",
      "    0  0.000e+00               0.48 \n",
      "    1  4.000e+00            -100.00 \n",
      "istop: 1000 (optimal)\n",
      "Solver:   Time Elapsed = 0.11   CPU Time Elapsed = 0.09\n",
      "objFunValue: 4 (feasible, MaxResidual = 0)'''\n",
      "\n",
      "print(r.xf)\n",
      "'''[{'item 13': 2, 'item 1': 1, 'item 6': 2}, \n",
      "{'item 3': 1, 'item 2': 1, 'item 13': 1, 'item 5': 2, 'item 12': 3}, \n",
      "{'item 10': 2, 'item 7': 2, 'item 14': 3}, \n",
      "{'item 9': 2, 'item 8': 2, 'item 0': 1, 'item 4': 1, 'item 11': 3, 'item 10': 1}]'''\n",
      "# pay attention that Python indexation starts from zero: item 0, item 1 ...\n",
      "# if fields 'name' are absent, you'll have list of numbers instead of Python dict\n",
      "\n",
      "print(r.values) # per each bin\n",
      "'''{'volume': (17.245948124126656, 19.886034336769214, 27.3955060854869, 27.004318475761739), \n",
      "'weight': (26.000659120389134, 26.211461050259725, 15.120985036297931, 12.972914561409214)}'''\n"
     ],
     "language": "python",
     "metadata": {},
     "outputs": [
      {
       "output_type": "stream",
       "stream": "stdout",
       "text": [
        "\n",
        "------------------------- OpenOpt 0.5115 -------------------------\n",
        "solver: glpk   problem: unnamed    type: MILP   goal: min\n",
        " iter   objFunVal   log10(maxResidual)   \n",
        "    0  0.000e+00               0.48 \n",
        "    1  0.000e+00            -100.00 \n",
        "istop: 1000 (optimal)\n",
        "Solver:   Time Elapsed = 0.03 \tCPU Time Elapsed = 0.03\n",
        "objFunValue: 4 (feasible, MaxResidual = 0)\n",
        "[{'item 7': 2, 'item 4': 1, 'item 2': 1, 'item 0': 1, 'item 11': 3, 'item 10': 3}, {'item 5': 2, 'item 12': 3, 'item 1': 1, 'item 8': 2}, {'item 6': 2, 'item 3': 1, 'item 13': 3}, {'item 14': 3, 'item 9': 2}]\n",
        "{'volume': (26.66886835327022, 22.585240349454157, 19.685580244283877, 22.592118075136248), 'weight': (20.576250540031729, 25.99176158112266, 27.89954239147858, 5.8384652557230368)}\n"
       ]
      },
      {
       "metadata": {},
       "output_type": "pyout",
       "prompt_number": 1,
       "text": [
        "\"{'volume': (17.245948124126656, 19.886034336769214, 27.3955060854869, 27.004318475761739), \\n'weight': (26.000659120389134, 26.211461050259725, 15.120985036297931, 12.972914561409214)}\""
       ]
      }
     ],
     "prompt_number": 1
    },
    {
     "cell_type": "code",
     "collapsed": false,
     "input": [
      "N = 15\n",
      "\n",
      "items = [\n",
      "         {\n",
      "         'name': i, # name of item or item type\n",
      "         'weight': 1.5*(cos(i)+1)**2,\n",
      "         'volume': 2*sin(i) + 3,\n",
      "         'n':  1 if i < N/3 else 2 if i < 2*N/3 else 3 # optional: number of items of the type, \"1\" by default\n",
      "         }\n",
      "         for i in range(N)\n",
      "         ]\n",
      "bins = {\n",
      "'volume': 35, # max volume the bin can store\n",
      "'weight': 30,  # max weight the bin can handle\n",
      "'n': 5\n",
      "}\n",
      "# optional:\n",
      "# we can add some constraints, each one will affect each bin\n",
      "constraints = lambda values: 2*values['volume']+0.5*values['weight'] <70\n",
      "# to add several constraints use constraints = [list_of_constraints],\n",
      "# e.g. constraints = [lambda v: 2*v['volume']+0.5*v['weight'] <70, lambda v: 4*v['volume']+0.25*v['weight'] >7]\n",
      "p = BPP(items, bins, constraints = constraints)\n",
      "r = p.solve('glpk', iprint=-1) # requires cvxopt and glpk installed, see http://openopt.org/BPP for other solvers\n",
      "\n",
      "print(r.xf)\n",
      "print(r.values) # per each bin\n"
     ],
     "language": "python",
     "metadata": {},
     "outputs": [
      {
       "output_type": "stream",
       "stream": "stdout",
       "text": [
        "[{2: 1, 3: 1, 12: 3, 13: 2}, {9: 2, 10: 2, 5: 2, 6: 2}, {4: 1, 7: 2, 8: 2, 10: 1, 11: 3, 13: 1}, {0: 1, 1: 1, 14: 3}]\n",
        "{'volume': (21.562065509075055, 18.519030405961288, 28.82412500332315, 22.626586103785016), 'weight': (26.725625067192119, 16.571555886485044, 21.635270259819805, 15.373568554859041)}\n"
       ]
      }
     ],
     "prompt_number": 2
    },
    {
     "cell_type": "code",
     "collapsed": false,
     "input": [
      "print(items)"
     ],
     "language": "python",
     "metadata": {},
     "outputs": [
      {
       "output_type": "stream",
       "stream": "stdout",
       "text": [
        "[{'name': 0, 'volume': 3.0, 'weight': 6.0, 'n': 1}, {'name': 1, 'volume': 4.6829419696157935, 'weight': 3.5587967901940627, 'n': 1}, {'name': 2, 'volume': 4.8185948536513639, 'weight': 0.51132677471086396, 'n': 1}, {'name': 3, 'volume': 3.2822400161197343, 'weight': 0.00015022518643814485, 'n': 1}, {'name': 4, 'volume': 1.4863950093841436, 'weight': 0.17994411205270408, 'n': 1}, {'name': 5, 'volume': 1.0821514506737231, 'weight': 2.4716829095823392, 'n': 2}, {'name': 6, 'volume': 2.4411690036021483, 'weight': 5.763401329000466, 'n': 2}, {'name': 7, 'volume': 4.3139731974375781, 'weight': 4.6142596766857897, 'n': 2}, {'name': 8, 'volume': 4.9787164932467638, 'weight': 1.0952552883316209, 'n': 2}, {'name': 9, 'volume': 3.8242369704835131, 'weight': 0.011846745529029156, 'n': 2}, {'name': 10, 'volume': 1.9119577782212605, 'weight': 0.038846959130686642, 'n': 3}, {'name': 11, 'volume': 1.000019586898593, 'weight': 1.5133064741681745, 'n': 3}, {'name': 12, 'volume': 1.9268541639991301, 'weight': 5.0996961317002247, 'n': 3}, {'name': 13, 'volume': 3.8403340736532821, 'weight': 5.4575298360970699, 'n': 3}, {'name': 14, 'volume': 4.9812147113897405, 'weight': 1.9382572548883261, 'n': 3}]\n"
       ]
      }
     ],
     "prompt_number": 3
    },
    {
     "cell_type": "code",
     "collapsed": false,
     "input": [
      "from itertools import chain\n",
      "problem = {\n",
      "    'argshash' : 0,\n",
      "    'items' : list(chain(*[\n",
      "                           [(1.5*(cos(i)+1)**2, 2*sin(i) + 3)] * (1 if i < N/3 else 2 if i < 2*N/3 else 3) \n",
      "                           for i in range(N)])),\n",
      "    'bins' : [(30, 35)] * 5\n",
      "}\n",
      "problem"
     ],
     "language": "python",
     "metadata": {},
     "outputs": [
      {
       "metadata": {},
       "output_type": "pyout",
       "prompt_number": 4,
       "text": [
        "{'argshash': 0,\n",
        " 'bins': [(30, 35), (30, 35), (30, 35), (30, 35), (30, 35)],\n",
        " 'items': [(6.0, 3.0),\n",
        "  (3.5587967901940627, 4.6829419696157935),\n",
        "  (0.51132677471086396, 4.8185948536513639),\n",
        "  (0.00015022518643814485, 3.2822400161197343),\n",
        "  (0.17994411205270408, 1.4863950093841436),\n",
        "  (2.4716829095823392, 1.0821514506737231),\n",
        "  (2.4716829095823392, 1.0821514506737231),\n",
        "  (5.763401329000466, 2.4411690036021483),\n",
        "  (5.763401329000466, 2.4411690036021483),\n",
        "  (4.6142596766857897, 4.3139731974375781),\n",
        "  (4.6142596766857897, 4.3139731974375781),\n",
        "  (1.0952552883316209, 4.9787164932467638),\n",
        "  (1.0952552883316209, 4.9787164932467638),\n",
        "  (0.011846745529029156, 3.8242369704835131),\n",
        "  (0.011846745529029156, 3.8242369704835131),\n",
        "  (0.038846959130686642, 1.9119577782212605),\n",
        "  (0.038846959130686642, 1.9119577782212605),\n",
        "  (0.038846959130686642, 1.9119577782212605),\n",
        "  (1.5133064741681745, 1.000019586898593),\n",
        "  (1.5133064741681745, 1.000019586898593),\n",
        "  (1.5133064741681745, 1.000019586898593),\n",
        "  (5.0996961317002247, 1.9268541639991301),\n",
        "  (5.0996961317002247, 1.9268541639991301),\n",
        "  (5.0996961317002247, 1.9268541639991301),\n",
        "  (5.4575298360970699, 3.8403340736532821),\n",
        "  (5.4575298360970699, 3.8403340736532821),\n",
        "  (5.4575298360970699, 3.8403340736532821),\n",
        "  (1.9382572548883261, 4.9812147113897405),\n",
        "  (1.9382572548883261, 4.9812147113897405),\n",
        "  (1.9382572548883261, 4.9812147113897405)]}"
       ]
      }
     ],
     "prompt_number": 4
    },
    {
     "cell_type": "code",
     "collapsed": false,
     "input": [
      "from vectorpack.interface import pack_vectors, pack_vectors_openopt"
     ],
     "language": "python",
     "metadata": {},
     "outputs": [],
     "prompt_number": 5
    },
    {
     "cell_type": "code",
     "collapsed": false,
     "input": [
      "pack_vectors(problem=problem)"
     ],
     "language": "python",
     "metadata": {},
     "outputs": [
      {
       "metadata": {},
       "output_type": "pyout",
       "prompt_number": 6,
       "text": [
        "{'bincount': 3,\n",
        " 'binsort': 'none',\n",
        " 'datetime': datetime.datetime(2014, 1, 30, 9, 20, 9, 983503),\n",
        " 'failcount': 0,\n",
        " 'itemsort': 'none',\n",
        " 'mapping': [0,\n",
        "  0,\n",
        "  0,\n",
        "  0,\n",
        "  0,\n",
        "  0,\n",
        "  0,\n",
        "  0,\n",
        "  0,\n",
        "  0,\n",
        "  1,\n",
        "  0,\n",
        "  0,\n",
        "  1,\n",
        "  1,\n",
        "  0,\n",
        "  0,\n",
        "  1,\n",
        "  1,\n",
        "  1,\n",
        "  1,\n",
        "  1,\n",
        "  1,\n",
        "  1,\n",
        "  1,\n",
        "  2,\n",
        "  2,\n",
        "  1,\n",
        "  1,\n",
        "  1],\n",
        " 'pack': 'pack_by_bins',\n",
        " 'problem-argshash': 0,\n",
        " 'runtime': 0.015234441999999904,\n",
        " 'select': 'none',\n",
        " 'solver-githash': 'GITHASH',\n",
        " 'split': 1,\n",
        " 'verified': True}"
       ]
      }
     ],
     "prompt_number": 6
    },
    {
     "cell_type": "code",
     "collapsed": false,
     "input": [
      "pack_vectors_openopt(problem=problem)"
     ],
     "language": "python",
     "metadata": {},
     "outputs": [
      {
       "metadata": {},
       "output_type": "pyout",
       "prompt_number": 7,
       "text": [
        "{'algorithm': {'family': 'openopt',\n",
        "  'iprint': -1,\n",
        "  'solver': 'glpk',\n",
        "  'type': 'exact'},\n",
        " 'bincount': 3,\n",
        " 'datetime': datetime.datetime(2014, 1, 30, 9, 20, 10, 284569),\n",
        " 'failcount': 0,\n",
        " 'mapping': [0,\n",
        "  2,\n",
        "  1,\n",
        "  2,\n",
        "  0,\n",
        "  0,\n",
        "  2,\n",
        "  1,\n",
        "  0,\n",
        "  2,\n",
        "  2,\n",
        "  0,\n",
        "  2,\n",
        "  1,\n",
        "  0,\n",
        "  1,\n",
        "  1,\n",
        "  0,\n",
        "  1,\n",
        "  1,\n",
        "  1,\n",
        "  0,\n",
        "  2,\n",
        "  1,\n",
        "  0,\n",
        "  1,\n",
        "  1,\n",
        "  2,\n",
        "  2,\n",
        "  1],\n",
        " 'problem-argshash': 0,\n",
        " 'runtime': 0.12254239599999983,\n",
        " 'solver-githash': 'GITHASH',\n",
        " 'verified': True}"
       ]
      }
     ],
     "prompt_number": 7
    },
    {
     "cell_type": "code",
     "collapsed": false,
     "input": [],
     "language": "python",
     "metadata": {},
     "outputs": [],
     "prompt_number": 7
    }
   ],
   "metadata": {}
  }
 ]
}