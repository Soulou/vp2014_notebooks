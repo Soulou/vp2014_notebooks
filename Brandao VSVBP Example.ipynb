{
 "metadata": {
  "name": ""
 },
 "nbformat": 3,
 "nbformat_minor": 0,
 "worksheets": [
  {
   "cells": [
    {
     "cell_type": "code",
     "collapsed": false,
     "input": [
      "from pyvpsolver import *\n",
      "\n",
      "Ws = [[100], [120], [150]]\n",
      "cost = [100, 120, 150]\n",
      "ws = [[[10]], [[14]], [[17]], [[19]], [[24]], [[29]], [[32]], [[33]], [[36]],\n",
      "      [[38]], [[40]], [[50]], [[54]], [[55]], [[63]], [[66]], [[71]], [[77]],\n",
      "      [[79]], [[83]], [[92]], [[95]], [[99]]]\n",
      "b = [1, 1, 1, 2, 1, 1, 1, 1, 1, 1, 1, 1, 1, 1, 1, 1, 1, 2, 1, 1, 1, 1, 1]\n",
      "\n",
      "obj, sol = solve_mvbp(Ws, ws, b, cost, svg_file=\"tmp/graph_vsbpp.svg\", verbose=True, script=\"vpsolver_glpk.sh\")\n",
      "print(\"obj:\", obj)\n",
      "print(\"sol:\", sol)\n",
      "print_solution_mvbp(obj, sol)\n"
     ],
     "language": "python",
     "metadata": {},
     "outputs": [
      {
       "output_type": "stream",
       "stream": "stdout",
       "text": [
        "Failed to load pygraphviz!\n",
        "Failed to load pygraphviz!\n",
        "Failed to load pygraphviz!\n",
        "Failed to load pygraphviz!\n",
        "Failed to load pygraphviz!\n",
        "obj:"
       ]
      },
      {
       "output_type": "stream",
       "stream": "stdout",
       "text": [
        " 1280\n",
        "sol: [[(1, [(22, 0)]), (1, [(8, 0), (14, 0)])], [(1, [(12, 0), (15, 0)]), (1, [(2, 0), (4, 0), (18, 0)]), (1, [(3, 0), (3, 0), (6, 0), (11, 0)]), (1, [(0, 0), (7, 0), (17, 0)])], [(1, [(1, 0), (10, 0), (20, 0)]), (1, [(16, 0), (17, 0)]), (1, [(5, 0), (9, 0), (19, 0)]), (1, [(13, 0), (21, 0)])]]\n",
        "Objective: 1280\n",
        "Bins of type 1: 2\n",
        "1 x [i=23 opt=1]\n",
        "1 x [i=9 opt=1, i=15 opt=1]\n",
        "Bins of type 2: 4\n",
        "1 x [i=13 opt=1, i=16 opt=1]\n",
        "1 x [i=3 opt=1, i=5 opt=1, i=19 opt=1]\n",
        "1 x [i=4 opt=1, i=4 opt=1, i=7 opt=1, i=12 opt=1]\n",
        "1 x [i=1 opt=1, i=8 opt=1, i=18 opt=1]\n",
        "Bins of type 3: 4\n",
        "1 x [i=2 opt=1, i=11 opt=1, i=21 opt=1]\n",
        "1 x [i=17 opt=1, i=18 opt=1]\n",
        "1 x [i=6 opt=1, i=10 opt=1, i=20 opt=1]\n",
        "1 x [i=14 opt=1, i=22 opt=1]\n"
       ]
      }
     ],
     "prompt_number": 1
    },
    {
     "cell_type": "code",
     "collapsed": false,
     "input": [
      "print(sol)"
     ],
     "language": "python",
     "metadata": {},
     "outputs": [
      {
       "output_type": "stream",
       "stream": "stdout",
       "text": [
        "[[(1, [(22, 0)]), (1, [(8, 0), (14, 0)])], [(1, [(12, 0), (15, 0)]), (1, [(2, 0), (4, 0), (18, 0)]), (1, [(3, 0), (3, 0), (6, 0), (11, 0)]), (1, [(0, 0), (7, 0), (17, 0)])], [(1, [(1, 0), (10, 0), (20, 0)]), (1, [(16, 0), (17, 0)]), (1, [(5, 0), (9, 0), (19, 0)]), (1, [(13, 0), (21, 0)])]]\n"
       ]
      }
     ],
     "prompt_number": 2
    },
    {
     "cell_type": "code",
     "collapsed": false,
     "input": [
      "print(len(sol))"
     ],
     "language": "python",
     "metadata": {},
     "outputs": [
      {
       "output_type": "stream",
       "stream": "stdout",
       "text": [
        "3\n"
       ]
      }
     ],
     "prompt_number": 3
    },
    {
     "cell_type": "code",
     "collapsed": false,
     "input": [
      "print([x for x, y in sol[2]])"
     ],
     "language": "python",
     "metadata": {},
     "outputs": [
      {
       "output_type": "stream",
       "stream": "stdout",
       "text": [
        "[1, 1, 1, 1]\n"
       ]
      }
     ],
     "prompt_number": 4
    },
    {
     "cell_type": "code",
     "collapsed": false,
     "input": [
      "from itertools import chain\n",
      "\n",
      "N = 15\n",
      "\n",
      "problem = {\n",
      "    'argshash' : 0,\n",
      "    'items' : list(chain(*[\n",
      "                           [(1.5*(cos(i)+1)**2, 2*sin(i) + 3)] * (1 if i < N/3 else 2 if i < 2*N/3 else 3) \n",
      "                           for i in range(N)])),\n",
      "    'bins' : [(30, 35)] * 5\n",
      "}\n",
      "problem"
     ],
     "language": "python",
     "metadata": {},
     "outputs": [
      {
       "metadata": {},
       "output_type": "pyout",
       "prompt_number": 5,
       "text": [
        "{'argshash': 0,\n",
        " 'bins': [(30, 35), (30, 35), (30, 35), (30, 35), (30, 35)],\n",
        " 'items': [(6.0, 3.0),\n",
        "  (3.5587967901940627, 4.6829419696157935),\n",
        "  (0.51132677471086396, 4.8185948536513639),\n",
        "  (0.00015022518643814485, 3.2822400161197343),\n",
        "  (0.17994411205270408, 1.4863950093841436),\n",
        "  (2.4716829095823392, 1.0821514506737231),\n",
        "  (2.4716829095823392, 1.0821514506737231),\n",
        "  (5.763401329000466, 2.4411690036021483),\n",
        "  (5.763401329000466, 2.4411690036021483),\n",
        "  (4.6142596766857897, 4.3139731974375781),\n",
        "  (4.6142596766857897, 4.3139731974375781),\n",
        "  (1.0952552883316209, 4.9787164932467638),\n",
        "  (1.0952552883316209, 4.9787164932467638),\n",
        "  (0.011846745529029156, 3.8242369704835131),\n",
        "  (0.011846745529029156, 3.8242369704835131),\n",
        "  (0.038846959130686642, 1.9119577782212605),\n",
        "  (0.038846959130686642, 1.9119577782212605),\n",
        "  (0.038846959130686642, 1.9119577782212605),\n",
        "  (1.5133064741681745, 1.000019586898593),\n",
        "  (1.5133064741681745, 1.000019586898593),\n",
        "  (1.5133064741681745, 1.000019586898593),\n",
        "  (5.0996961317002247, 1.9268541639991301),\n",
        "  (5.0996961317002247, 1.9268541639991301),\n",
        "  (5.0996961317002247, 1.9268541639991301),\n",
        "  (5.4575298360970699, 3.8403340736532821),\n",
        "  (5.4575298360970699, 3.8403340736532821),\n",
        "  (5.4575298360970699, 3.8403340736532821),\n",
        "  (1.9382572548883261, 4.9812147113897405),\n",
        "  (1.9382572548883261, 4.9812147113897405),\n",
        "  (1.9382572548883261, 4.9812147113897405)]}"
       ]
      }
     ],
     "prompt_number": 5
    },
    {
     "cell_type": "code",
     "collapsed": false,
     "input": [
      "from vectorpack.interface import pack_vectors, pack_vectors_openopt, pack_vectors_vpsolver"
     ],
     "language": "python",
     "metadata": {},
     "outputs": [],
     "prompt_number": 6
    },
    {
     "cell_type": "code",
     "collapsed": false,
     "input": [
      "pack_vectors(problem=problem)"
     ],
     "language": "python",
     "metadata": {},
     "outputs": [
      {
       "metadata": {},
       "output_type": "pyout",
       "prompt_number": 7,
       "text": [
        "{'bincount': 3,\n",
        " 'binsort': 'none',\n",
        " 'datetime': datetime.datetime(2014, 1, 30, 14, 50, 26, 364505),\n",
        " 'failcount': 0,\n",
        " 'itemsort': 'none',\n",
        " 'mapping': [0,\n",
        "  0,\n",
        "  0,\n",
        "  0,\n",
        "  0,\n",
        "  0,\n",
        "  0,\n",
        "  0,\n",
        "  0,\n",
        "  0,\n",
        "  1,\n",
        "  0,\n",
        "  0,\n",
        "  1,\n",
        "  1,\n",
        "  0,\n",
        "  0,\n",
        "  1,\n",
        "  1,\n",
        "  1,\n",
        "  1,\n",
        "  1,\n",
        "  1,\n",
        "  1,\n",
        "  1,\n",
        "  2,\n",
        "  2,\n",
        "  1,\n",
        "  1,\n",
        "  1],\n",
        " 'pack': 'pack_by_bins',\n",
        " 'problem-argshash': 0,\n",
        " 'runtime': 0.011311972999999975,\n",
        " 'select': 'none',\n",
        " 'solver-githash': '6ab4d6f2cfecc0f8ec2cdd362902943e8190bfaf',\n",
        " 'split': 1,\n",
        " 'verified': True}"
       ]
      }
     ],
     "prompt_number": 7
    },
    {
     "cell_type": "code",
     "collapsed": false,
     "input": [
      "pack_vectors_openopt(problem=problem)"
     ],
     "language": "python",
     "metadata": {},
     "outputs": [
      {
       "metadata": {},
       "output_type": "pyout",
       "prompt_number": 8,
       "text": [
        "{'algorithm': {'family': 'openopt',\n",
        "  'iprint': -1,\n",
        "  'solver': 'glpk',\n",
        "  'type': 'exact'},\n",
        " 'bincount': 3,\n",
        " 'datetime': datetime.datetime(2014, 1, 30, 14, 50, 26, 810715),\n",
        " 'failcount': 0,\n",
        " 'mapping': [0,\n",
        "  2,\n",
        "  0,\n",
        "  0,\n",
        "  1,\n",
        "  2,\n",
        "  2,\n",
        "  2,\n",
        "  1,\n",
        "  2,\n",
        "  2,\n",
        "  0,\n",
        "  1,\n",
        "  1,\n",
        "  1,\n",
        "  2,\n",
        "  1,\n",
        "  0,\n",
        "  0,\n",
        "  0,\n",
        "  0,\n",
        "  1,\n",
        "  1,\n",
        "  0,\n",
        "  1,\n",
        "  1,\n",
        "  0,\n",
        "  2,\n",
        "  2,\n",
        "  2],\n",
        " 'problem-argshash': 0,\n",
        " 'runtime': 0.19494369100000009,\n",
        " 'solver-githash': '6ab4d6f2cfecc0f8ec2cdd362902943e8190bfaf',\n",
        " 'verified': True}"
       ]
      }
     ],
     "prompt_number": 8
    },
    {
     "cell_type": "code",
     "collapsed": false,
     "input": [
      "pack_vectors_vpsolver(problem=problem)"
     ],
     "language": "python",
     "metadata": {},
     "outputs": [
      {
       "metadata": {},
       "output_type": "pyout",
       "prompt_number": 9,
       "text": [
        "{'algorithm': {'family': 'brandao2013vsv',\n",
        "  'solver': 'glpk',\n",
        "  'type': 'exact',\n",
        "  'verbose': False},\n",
        " 'bincount': 3,\n",
        " 'datetime': datetime.datetime(2014, 1, 30, 14, 50, 27, 784576),\n",
        " 'failcount': 0,\n",
        " 'mapping': [2,\n",
        "  2,\n",
        "  2,\n",
        "  0,\n",
        "  2,\n",
        "  0,\n",
        "  2,\n",
        "  1,\n",
        "  1,\n",
        "  0,\n",
        "  1,\n",
        "  1,\n",
        "  0,\n",
        "  2,\n",
        "  0,\n",
        "  0,\n",
        "  0,\n",
        "  0,\n",
        "  0,\n",
        "  2,\n",
        "  2,\n",
        "  0,\n",
        "  0,\n",
        "  0,\n",
        "  1,\n",
        "  1,\n",
        "  2,\n",
        "  2,\n",
        "  2,\n",
        "  2],\n",
        " 'problem-argshash': 0,\n",
        " 'runtime': 0.07584047299999996,\n",
        " 'solver-githash': '6ab4d6f2cfecc0f8ec2cdd362902943e8190bfaf',\n",
        " 'verified': True}"
       ]
      }
     ],
     "prompt_number": 9
    },
    {
     "cell_type": "code",
     "collapsed": false,
     "input": [],
     "language": "python",
     "metadata": {},
     "outputs": [],
     "prompt_number": 9
    }
   ],
   "metadata": {}
  }
 ]
}