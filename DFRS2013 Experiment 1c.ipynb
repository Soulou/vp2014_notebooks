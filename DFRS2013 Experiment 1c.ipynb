{
 "metadata": {
  "name": ""
 },
 "nbformat": 3,
 "nbformat_minor": 0,
 "worksheets": [
  {
   "cells": [
    {
     "cell_type": "markdown",
     "metadata": {},
     "source": [
      "First, we generate problem instances."
     ]
    },
    {
     "cell_type": "code",
     "collapsed": false,
     "input": [
      "import random\n",
      "\n",
      "expname = 'exp1c'\n",
      "\n",
      "probset_dir = 'data/probsets/dfrs_' + expname\n",
      "\n",
      "parameters = [\n",
      "              ('num_bins',       [ 512 ]),\n",
      "              ('num_items',      [ 1000, 1250, 1500, 1750, 2000, 2250, 2500, 2750 ]),\n",
      "              ('num_dimensions', [ 2, 3, 4, 5 ]),\n",
      "              ('slack',          [ 0.20, 0.25, 0.30, 0.35, 0.40, 0.45, 0.50, 0.55 ]),\n",
      "              ('cov',            [ 0.0, 0.1, 0.2, 0.3, 0.4, 0.5, 0.6, 0.7 ]),\n",
      "]\n",
      "\n",
      "oa_file = \"oadir/oa.128.17.8.2.txt\"\n",
      "\n",
      "randseed = 1337\n",
      "\n",
      "random.seed(randseed)\n",
      "\n",
      "oa = [tuple(int(x) for x in r.split()) for r in open(oa_file, 'r')]\n",
      "oaT = zip(*oa)\n",
      "\n",
      "problemsT = []\n",
      "for (name, values), col in zip(parameters, oaT):\n",
      "    svals = values[:]\n",
      "    random.shuffle(svals)\n",
      "    problemsT.append([(name, svals[i % len(svals)]) for i in col])\n",
      "    \n",
      "problems = [dict(list(row) + [('seed', randseed + 1 + i)]) for i, row in enumerate(zip(*problemsT))]\n",
      "\n",
      "probfile_template = (\"prob-seed:%(seed)d-\" + \n",
      "                     \"-\".join(param + \":%(\" + param + \")s\" for param in \n",
      "                              ['num_bins', 'num_items', 'num_dimensions', 'slack', 'cov']) + \n",
      "                     \".prob\")\n",
      "\n",
      "command_template = (\"generate-vectorpack-problem -s %(seed)s -d %(num_dimensions)s \" +\n",
      "                    \"-b %(num_bins)s -i %(num_items)s -c %(cov)s -k %(slack)s > \" +\n",
      "                    probset_dir +\"/%(probfile)s\\n\")\n",
      "\n",
      "outfile = open(expname + '_makeprobset_commands.sh', 'w')\n",
      "\n",
      "for problem in problems:\n",
      "    cmdparams = dict(list(problem.items()) + [('probfile', probfile_template % problem)])\n",
      "    outfile.write(command_template % cmdparams)\n",
      "\n",
      "outfile.close()"
     ],
     "language": "python",
     "metadata": {},
     "outputs": [],
     "prompt_number": 1
    },
    {
     "cell_type": "markdown",
     "metadata": {},
     "source": [
      "Next, we generate a plan to solve these instances.\n"
     ]
    },
    {
     "cell_type": "code",
     "collapsed": false,
     "input": [
      "from itertools import product\n",
      "\n",
      "resultdb = 'mongodb://central.senbazuru.soe.cranfield.ac.uk/vp2013/' + expname\n",
      "\n",
      "parameters = [\n",
      "    ('pack',   [ 'pack_by_items', 'pack_by_bins' ]),\n",
      "    ('select', [ 'none', 'a:sum', 'd:sum', 'a:max', 'd:max', 'a:maxdiff', 'd:maxdiff', 'a:imaxratio', 'd:imaxratio',\n",
      "                 'a:lnorm', 'd:lnorm', 'pp', 'pp:w=2', 'cp:w=1', 'cp:w=2' ]),\n",
      "    ('itemsort',  [ 'none', 'a:sum', 'd:sum', 'a:max', 'd:max', 'a:maxdiff', 'd:maxdiff', 'a:imaxratio', 'd:imaxratio',\n",
      "                    'a:lnorm', 'd:lnorm' ]),\n",
      "    ('binsort',  [ 'none', 'a:sum', 'd:sum', 'a:max', 'd:max', 'a:maxdiff', 'd:maxdiff', 'a:imaxratio', 'd:imaxratio',\n",
      "                    'a:lnorm', 'd:lnorm' ])\n",
      "]\n",
      "\n",
      "algorithms = map(dict, product(*[[(name, value) for value in values] for name, values in parameters]))\n",
      "\n",
      "command_template = (\"pack-vectors -i \" + probset_dir +\"/%(probfile)s\" +\n",
      "                    \" -P %(pack)s -I %(itemsort)s -B %(binsort)s -S %(select)s\" +\n",
      "                    \" -o \" + resultdb + \"\\n\")\n",
      "\n",
      "commands = []\n",
      "for algo, problem in product(algorithms, problems):\n",
      "    probfile = probfile_template % problem\n",
      "    cmdparams = dict(list(algo.items()) + list(problem.items()) + [('probfile', probfile)])\n",
      "    commands.append(command_template % (cmdparams))\n",
      "\n",
      "random.shuffle(commands)\n",
      "\n",
      "outfile = open(expname + '_run_experiment.sh', 'w')\n",
      "outfile.writelines(commands)\n",
      "outfile.close()"
     ],
     "language": "python",
     "metadata": {},
     "outputs": [],
     "prompt_number": 2
    },
    {
     "cell_type": "markdown",
     "metadata": {},
     "source": [
      "Read in problem instance data."
     ]
    },
    {
     "cell_type": "code",
     "collapsed": false,
     "input": [
      "from os import listdir, path\n",
      "from yaml import load as yload\n",
      "import pandas as pd\n",
      "probdir = 'data/probsets/dfrs_' + expname\n",
      "probtemp = [yload(open(path.join(probdir, probfile))) for probfile in listdir(probdir)]\n",
      "problems = pd.DataFrame([dict(list(p.items()) + list(p['args'].items())) for p in probtemp])\n",
      "problems"
     ],
     "language": "python",
     "metadata": {},
     "outputs": [
      {
       "html": [
        "<pre>\n",
        "&lt;class 'pandas.core.frame.DataFrame'&gt;\n",
        "Int64Index: 128 entries, 0 to 127\n",
        "Data columns (total 11 columns):\n",
        "args              128  non-null values\n",
        "argshash          128  non-null values\n",
        "bins              128  non-null values\n",
        "cov               128  non-null values\n",
        "items             128  non-null values\n",
        "note              0  non-null values\n",
        "num_bins          128  non-null values\n",
        "num_dimensions    128  non-null values\n",
        "num_items         128  non-null values\n",
        "seed              128  non-null values\n",
        "slack             128  non-null values\n",
        "dtypes: float64(2), int64(4), object(5)\n",
        "</pre>"
       ],
       "metadata": {},
       "output_type": "pyout",
       "prompt_number": 3,
       "text": [
        "<class 'pandas.core.frame.DataFrame'>\n",
        "Int64Index: 128 entries, 0 to 127\n",
        "Data columns (total 11 columns):\n",
        "args              128  non-null values\n",
        "argshash          128  non-null values\n",
        "bins              128  non-null values\n",
        "cov               128  non-null values\n",
        "items             128  non-null values\n",
        "note              0  non-null values\n",
        "num_bins          128  non-null values\n",
        "num_dimensions    128  non-null values\n",
        "num_items         128  non-null values\n",
        "seed              128  non-null values\n",
        "slack             128  non-null values\n",
        "dtypes: float64(2), int64(4), object(5)"
       ]
      }
     ],
     "prompt_number": 3
    },
    {
     "cell_type": "markdown",
     "metadata": {},
     "source": [
      "Compute actual cov and append column to problems data frame."
     ]
    },
    {
     "cell_type": "code",
     "collapsed": false,
     "input": [
      "from scipy.stats import variation as cov\n",
      "from numpy import mean\n",
      "from matplotlib import pyplot as plt\n",
      "problems = problems.join(pd.DataFrame({'acov' : \n",
      "                                       problems['bins'].apply(lambda bins: mean([cov(d) for d in zip(*bins)])),\n",
      "                                       'avg_acov' : \n",
      "                                       problems['bins'].apply(lambda bins: round(20.0*mean([cov(d) for d in zip(*bins)]))/20.0) }))\n",
      "problems = problems.sort(['cov'])\n",
      "plt.plot(problems['cov'], problems['cov'] - problems['acov'])\n",
      "\n",
      "print problems.groupby('avg_acov').size()"
     ],
     "language": "python",
     "metadata": {},
     "outputs": [
      {
       "output_type": "stream",
       "stream": "stdout",
       "text": [
        "avg_acov\n",
        "0.10        16\n",
        "0.20        16\n",
        "0.30        16\n",
        "0.40        16\n",
        "0.45         4\n",
        "0.50        12\n",
        "0.55        14\n",
        "0.60        17\n",
        "0.65        14\n",
        "0.70         3\n",
        "dtype: int64\n"
       ]
      },
      {
       "metadata": {},
       "output_type": "display_data",
       "png": "[encoded data removed]",
       "text": [
        "<matplotlib.figure.Figure at 0xdc1ac50>"
       ]
      }
     ],
     "prompt_number": 4
    },
    {
     "cell_type": "code",
     "collapsed": false,
     "input": [
      "solutions_chunks = pd.read_csv('data/results/dfrs_' + expname + '_results.csv.gz', \n",
      "                               compression='gzip', iterator=True, chunksize=1000)\n",
      "solutions = pd.concat(list(solutions_chunks), ignore_index=True)\n",
      "solutions"
     ],
     "language": "python",
     "metadata": {},
     "outputs": [
      {
       "ename": "IOError",
       "evalue": "[Errno 2] No such file or directory: 'data/results/dfrs_exp1c_results.csv.gz'",
       "output_type": "pyerr",
       "traceback": [
        "\u001b[1;31m---------------------------------------------------------------------------\u001b[0m\n\u001b[1;31mIOError\u001b[0m                                   Traceback (most recent call last)",
        "\u001b[1;32m<ipython-input-5-28bd352dd636>\u001b[0m in \u001b[0;36m<module>\u001b[1;34m()\u001b[0m\n\u001b[0;32m      1\u001b[0m solutions_chunks = pd.read_csv('data/results/dfrs_' + expname + '_results.csv.gz', \n\u001b[1;32m----> 2\u001b[1;33m                                compression='gzip', iterator=True, chunksize=1000)\n\u001b[0m\u001b[0;32m      3\u001b[0m \u001b[0msolutions\u001b[0m \u001b[1;33m=\u001b[0m \u001b[0mpd\u001b[0m\u001b[1;33m.\u001b[0m\u001b[0mconcat\u001b[0m\u001b[1;33m(\u001b[0m\u001b[0mlist\u001b[0m\u001b[1;33m(\u001b[0m\u001b[0msolutions_chunks\u001b[0m\u001b[1;33m)\u001b[0m\u001b[1;33m,\u001b[0m \u001b[0mignore_index\u001b[0m\u001b[1;33m=\u001b[0m\u001b[0mTrue\u001b[0m\u001b[1;33m)\u001b[0m\u001b[1;33m\u001b[0m\u001b[0m\n\u001b[0;32m      4\u001b[0m \u001b[0msolutions\u001b[0m\u001b[1;33m\u001b[0m\u001b[0m\n",
        "\u001b[1;32m/home/marklee/.pyenv/versions/ipython/lib/python2.7/site-packages/pandas/io/parsers.pyc\u001b[0m in \u001b[0;36mparser_f\u001b[1;34m(filepath_or_buffer, sep, dialect, compression, doublequote, escapechar, quotechar, quoting, skipinitialspace, lineterminator, header, index_col, names, prefix, skiprows, skipfooter, skip_footer, na_values, na_fvalues, true_values, false_values, delimiter, converters, dtype, usecols, engine, delim_whitespace, as_recarray, na_filter, compact_ints, use_unsigned, low_memory, buffer_lines, warn_bad_lines, error_bad_lines, keep_default_na, thousands, comment, decimal, parse_dates, keep_date_col, dayfirst, date_parser, memory_map, nrows, iterator, chunksize, verbose, encoding, squeeze, mangle_dupe_cols, tupleize_cols)\u001b[0m\n\u001b[0;32m    398\u001b[0m             )\n\u001b[0;32m    399\u001b[0m \u001b[1;33m\u001b[0m\u001b[0m\n\u001b[1;32m--> 400\u001b[1;33m         \u001b[1;32mreturn\u001b[0m \u001b[0m_read\u001b[0m\u001b[1;33m(\u001b[0m\u001b[0mfilepath_or_buffer\u001b[0m\u001b[1;33m,\u001b[0m \u001b[0mkwds\u001b[0m\u001b[1;33m)\u001b[0m\u001b[1;33m\u001b[0m\u001b[0m\n\u001b[0m\u001b[0;32m    401\u001b[0m \u001b[1;33m\u001b[0m\u001b[0m\n\u001b[0;32m    402\u001b[0m     \u001b[0mparser_f\u001b[0m\u001b[1;33m.\u001b[0m\u001b[0m__name__\u001b[0m \u001b[1;33m=\u001b[0m \u001b[0mname\u001b[0m\u001b[1;33m\u001b[0m\u001b[0m\n",
        "\u001b[1;32m/home/marklee/.pyenv/versions/ipython/lib/python2.7/site-packages/pandas/io/parsers.pyc\u001b[0m in \u001b[0;36m_read\u001b[1;34m(filepath_or_buffer, kwds)\u001b[0m\n\u001b[0;32m    196\u001b[0m \u001b[1;33m\u001b[0m\u001b[0m\n\u001b[0;32m    197\u001b[0m     \u001b[1;31m# Create the parser.\u001b[0m\u001b[1;33m\u001b[0m\u001b[1;33m\u001b[0m\u001b[0m\n\u001b[1;32m--> 198\u001b[1;33m     \u001b[0mparser\u001b[0m \u001b[1;33m=\u001b[0m \u001b[0mTextFileReader\u001b[0m\u001b[1;33m(\u001b[0m\u001b[0mfilepath_or_buffer\u001b[0m\u001b[1;33m,\u001b[0m \u001b[1;33m**\u001b[0m\u001b[0mkwds\u001b[0m\u001b[1;33m)\u001b[0m\u001b[1;33m\u001b[0m\u001b[0m\n\u001b[0m\u001b[0;32m    199\u001b[0m \u001b[1;33m\u001b[0m\u001b[0m\n\u001b[0;32m    200\u001b[0m     \u001b[1;32mif\u001b[0m \u001b[0mnrows\u001b[0m \u001b[1;32mis\u001b[0m \u001b[1;32mnot\u001b[0m \u001b[0mNone\u001b[0m\u001b[1;33m:\u001b[0m\u001b[1;33m\u001b[0m\u001b[0m\n",
        "\u001b[1;32m/home/marklee/.pyenv/versions/ipython/lib/python2.7/site-packages/pandas/io/parsers.pyc\u001b[0m in \u001b[0;36m__init__\u001b[1;34m(self, f, engine, **kwds)\u001b[0m\n\u001b[0;32m    477\u001b[0m             \u001b[0mself\u001b[0m\u001b[1;33m.\u001b[0m\u001b[0moptions\u001b[0m\u001b[1;33m[\u001b[0m\u001b[1;34m'has_index_names'\u001b[0m\u001b[1;33m]\u001b[0m \u001b[1;33m=\u001b[0m \u001b[0mkwds\u001b[0m\u001b[1;33m[\u001b[0m\u001b[1;34m'has_index_names'\u001b[0m\u001b[1;33m]\u001b[0m\u001b[1;33m\u001b[0m\u001b[0m\n\u001b[0;32m    478\u001b[0m \u001b[1;33m\u001b[0m\u001b[0m\n\u001b[1;32m--> 479\u001b[1;33m         \u001b[0mself\u001b[0m\u001b[1;33m.\u001b[0m\u001b[0m_make_engine\u001b[0m\u001b[1;33m(\u001b[0m\u001b[0mself\u001b[0m\u001b[1;33m.\u001b[0m\u001b[0mengine\u001b[0m\u001b[1;33m)\u001b[0m\u001b[1;33m\u001b[0m\u001b[0m\n\u001b[0m\u001b[0;32m    480\u001b[0m \u001b[1;33m\u001b[0m\u001b[0m\n\u001b[0;32m    481\u001b[0m     \u001b[1;32mdef\u001b[0m \u001b[0m_get_options_with_defaults\u001b[0m\u001b[1;33m(\u001b[0m\u001b[0mself\u001b[0m\u001b[1;33m,\u001b[0m \u001b[0mengine\u001b[0m\u001b[1;33m)\u001b[0m\u001b[1;33m:\u001b[0m\u001b[1;33m\u001b[0m\u001b[0m\n",
        "\u001b[1;32m/home/marklee/.pyenv/versions/ipython/lib/python2.7/site-packages/pandas/io/parsers.pyc\u001b[0m in \u001b[0;36m_make_engine\u001b[1;34m(self, engine)\u001b[0m\n\u001b[0;32m    584\u001b[0m     \u001b[1;32mdef\u001b[0m \u001b[0m_make_engine\u001b[0m\u001b[1;33m(\u001b[0m\u001b[0mself\u001b[0m\u001b[1;33m,\u001b[0m \u001b[0mengine\u001b[0m\u001b[1;33m=\u001b[0m\u001b[1;34m'c'\u001b[0m\u001b[1;33m)\u001b[0m\u001b[1;33m:\u001b[0m\u001b[1;33m\u001b[0m\u001b[0m\n\u001b[0;32m    585\u001b[0m         \u001b[1;32mif\u001b[0m \u001b[0mengine\u001b[0m \u001b[1;33m==\u001b[0m \u001b[1;34m'c'\u001b[0m\u001b[1;33m:\u001b[0m\u001b[1;33m\u001b[0m\u001b[0m\n\u001b[1;32m--> 586\u001b[1;33m             \u001b[0mself\u001b[0m\u001b[1;33m.\u001b[0m\u001b[0m_engine\u001b[0m \u001b[1;33m=\u001b[0m \u001b[0mCParserWrapper\u001b[0m\u001b[1;33m(\u001b[0m\u001b[0mself\u001b[0m\u001b[1;33m.\u001b[0m\u001b[0mf\u001b[0m\u001b[1;33m,\u001b[0m \u001b[1;33m**\u001b[0m\u001b[0mself\u001b[0m\u001b[1;33m.\u001b[0m\u001b[0moptions\u001b[0m\u001b[1;33m)\u001b[0m\u001b[1;33m\u001b[0m\u001b[0m\n\u001b[0m\u001b[0;32m    587\u001b[0m         \u001b[1;32melse\u001b[0m\u001b[1;33m:\u001b[0m\u001b[1;33m\u001b[0m\u001b[0m\n\u001b[0;32m    588\u001b[0m             \u001b[1;32mif\u001b[0m \u001b[0mengine\u001b[0m \u001b[1;33m==\u001b[0m \u001b[1;34m'python'\u001b[0m\u001b[1;33m:\u001b[0m\u001b[1;33m\u001b[0m\u001b[0m\n",
        "\u001b[1;32m/home/marklee/.pyenv/versions/ipython/lib/python2.7/site-packages/pandas/io/parsers.pyc\u001b[0m in \u001b[0;36m__init__\u001b[1;34m(self, src, **kwds)\u001b[0m\n\u001b[0;32m    955\u001b[0m         \u001b[0mkwds\u001b[0m\u001b[1;33m[\u001b[0m\u001b[1;34m'allow_leading_cols'\u001b[0m\u001b[1;33m]\u001b[0m \u001b[1;33m=\u001b[0m \u001b[0mself\u001b[0m\u001b[1;33m.\u001b[0m\u001b[0mindex_col\u001b[0m \u001b[1;32mis\u001b[0m \u001b[1;32mnot\u001b[0m \u001b[0mFalse\u001b[0m\u001b[1;33m\u001b[0m\u001b[0m\n\u001b[0;32m    956\u001b[0m \u001b[1;33m\u001b[0m\u001b[0m\n\u001b[1;32m--> 957\u001b[1;33m         \u001b[0mself\u001b[0m\u001b[1;33m.\u001b[0m\u001b[0m_reader\u001b[0m \u001b[1;33m=\u001b[0m \u001b[0m_parser\u001b[0m\u001b[1;33m.\u001b[0m\u001b[0mTextReader\u001b[0m\u001b[1;33m(\u001b[0m\u001b[0msrc\u001b[0m\u001b[1;33m,\u001b[0m \u001b[1;33m**\u001b[0m\u001b[0mkwds\u001b[0m\u001b[1;33m)\u001b[0m\u001b[1;33m\u001b[0m\u001b[0m\n\u001b[0m\u001b[0;32m    958\u001b[0m \u001b[1;33m\u001b[0m\u001b[0m\n\u001b[0;32m    959\u001b[0m         \u001b[1;31m# XXX\u001b[0m\u001b[1;33m\u001b[0m\u001b[1;33m\u001b[0m\u001b[0m\n",
        "\u001b[1;32m/home/marklee/.pyenv/versions/ipython/lib/python2.7/site-packages/pandas/parser.so\u001b[0m in \u001b[0;36mpandas.parser.TextReader.__cinit__ (pandas/parser.c:2987)\u001b[1;34m()\u001b[0m\n",
        "\u001b[1;32m/home/marklee/.pyenv/versions/ipython/lib/python2.7/site-packages/pandas/parser.so\u001b[0m in \u001b[0;36mpandas.parser.TextReader._setup_parser_source (pandas/parser.c:4984)\u001b[1;34m()\u001b[0m\n",
        "\u001b[1;32m/home/marklee/.pyenv/versions/2.7.3/lib/python2.7/gzip.pyc\u001b[0m in \u001b[0;36m__init__\u001b[1;34m(self, filename, mode, compresslevel, fileobj, mtime)\u001b[0m\n\u001b[0;32m     87\u001b[0m             \u001b[0mmode\u001b[0m \u001b[1;33m+=\u001b[0m \u001b[1;34m'b'\u001b[0m\u001b[1;33m\u001b[0m\u001b[0m\n\u001b[0;32m     88\u001b[0m         \u001b[1;32mif\u001b[0m \u001b[0mfileobj\u001b[0m \u001b[1;32mis\u001b[0m \u001b[0mNone\u001b[0m\u001b[1;33m:\u001b[0m\u001b[1;33m\u001b[0m\u001b[0m\n\u001b[1;32m---> 89\u001b[1;33m             \u001b[0mfileobj\u001b[0m \u001b[1;33m=\u001b[0m \u001b[0mself\u001b[0m\u001b[1;33m.\u001b[0m\u001b[0mmyfileobj\u001b[0m \u001b[1;33m=\u001b[0m \u001b[0m__builtin__\u001b[0m\u001b[1;33m.\u001b[0m\u001b[0mopen\u001b[0m\u001b[1;33m(\u001b[0m\u001b[0mfilename\u001b[0m\u001b[1;33m,\u001b[0m \u001b[0mmode\u001b[0m \u001b[1;32mor\u001b[0m \u001b[1;34m'rb'\u001b[0m\u001b[1;33m)\u001b[0m\u001b[1;33m\u001b[0m\u001b[0m\n\u001b[0m\u001b[0;32m     90\u001b[0m         \u001b[1;32mif\u001b[0m \u001b[0mfilename\u001b[0m \u001b[1;32mis\u001b[0m \u001b[0mNone\u001b[0m\u001b[1;33m:\u001b[0m\u001b[1;33m\u001b[0m\u001b[0m\n\u001b[0;32m     91\u001b[0m             \u001b[1;31m# Issue #13781: os.fdopen() creates a fileobj with a bogus name\u001b[0m\u001b[1;33m\u001b[0m\u001b[1;33m\u001b[0m\u001b[0m\n",
        "\u001b[1;31mIOError\u001b[0m: [Errno 2] No such file or directory: 'data/results/dfrs_exp1c_results.csv.gz'"
       ]
      }
     ],
     "prompt_number": 5
    },
    {
     "cell_type": "code",
     "collapsed": false,
     "input": [
      "data = pd.merge(solutions, problems, left_on='problem-argshash', right_on='argshash')\n",
      "data"
     ],
     "language": "python",
     "metadata": {},
     "outputs": []
    },
    {
     "cell_type": "code",
     "collapsed": false,
     "input": [
      "input_vars = ['num_items', 'num_dimensions', 'slack', 'cov']\n",
      "input_var_titles = ['number of items', 'number of dimensions', 'slack', 'coefficient of variation']\n",
      "\n",
      "problem_solution_counts = data[data['failcount'] == 0].groupby('problem-argshash').size()\n",
      "hard_problems = problems[~problems['argshash'].isin(problem_solution_counts.index)]\n",
      "print \"%d problems were not solved by any algorithm.\" % (len(hard_problems.index))\n",
      "  \n",
      "unsolved_count = len(problems.index) - len(problem_solution_counts.index)\n",
      "problem_stats = pd.DataFrame({ 'solution_counts' : problem_solution_counts })\n",
      "for solution_count, group in problem_stats.groupby('solution_counts'):\n",
      "    print \"%d problems were solved by %d algorithms.\" % (len(group.index), solution_count)\n",
      "    if solution_count == 3630:\n",
      "        easy_problems = problems[problems['argshash'].isin(group.index)]\n",
      "\n",
      "for ivar, ivar_title in zip(input_vars, input_var_titles):\n",
      "    fig = plt.figure()\n",
      "    ax = fig.add_subplot(111)\n",
      "    hard_problems.groupby(ivar).size().plot(ax=ax, marker='o', label='unsolved problems')\n",
      "    easy_problems.groupby(ivar).size().plot(ax=ax, marker='o', label='universally solved problems')\n",
      "    ax.set_xlabel(ivar_title)\n",
      "    ax.set_ylabel('problem count')\n",
      "    plt.xlim([problems[ivar].min(), problems[ivar].max()])\n",
      "    plt.ylim([0, 8])\n",
      "    plt.legend(loc='upper right')\n",
      "    plt.show()\n",
      "    fig.savefig('figures/probdifficulty-vs-' + ivar + '-line.pdf')\n",
      "\n",
      "    fig = plt.figure()    \n",
      "    ax = fig.add_subplot(111)\n",
      "    pd.DataFrame({'unsolved problems' : hard_problems.groupby(ivar).size(),\n",
      "                  'universally solved problems' : easy_problems.groupby(ivar).size()}\n",
      "                ).plot(ax=ax, kind='bar')\n",
      "    ax.set_xlabel(ivar_title)\n",
      "    ax.set_ylabel('problem count')\n",
      "    plt.ylim([0, 8])\n",
      "    plt.legend(loc='upper right')\n",
      "    plt.show()    \n",
      "    fig.savefig('figures/probdifficulty-vs-' + ivar + '-bar.pdf')\n",
      "    "
     ],
     "language": "python",
     "metadata": {},
     "outputs": []
    },
    {
     "cell_type": "code",
     "collapsed": false,
     "input": [
      "import matplotlib.pyplot as plt\n",
      "\n",
      "input_vars += [ 'split', 'acov', 'avg_acov' ]\n",
      "input_var_titles += [ 'split', 'computed coefficient of variation', 'average computed coefficient of variation' ]\n",
      "\n",
      "for ivar, ivar_title in zip(input_vars, input_var_titles):\n",
      "\n",
      "    data.sort(columns=[ivar], ascending=[True])\n",
      "    fig = plt.figure()\n",
      "    \n",
      "    ax = fig.add_subplot(111)\n",
      "    ax.set_xlabel(ivar_title)\n",
      "    plt.xlim([data[ivar].min(), data[ivar].max()])\n",
      "    data[data['failcount'] == 0].groupby(ivar).size().plot(ax=ax, marker='o')\n",
      "    plt.show()\n",
      "    fig.savefig('figures/successcount-vs-' + ivar + '.pdf')\n",
      "\n",
      "    fig = plt.figure()    \n",
      "    ax = fig.add_subplot(111)\n",
      "    ax.set_xlabel(ivar)\n",
      "    plt.xlim([data[ivar].min(), data[ivar].max()])\n",
      "    data.groupby(ivar)['runtime'].mean().plot(ax=ax, marker='o')\n",
      "    plt.show()\n",
      "    fig.savefig('figures/avgruntime-vs-' + ivar + '.pdf')"
     ],
     "language": "python",
     "metadata": {},
     "outputs": []
    },
    {
     "cell_type": "code",
     "collapsed": false,
     "input": [
      "fig = plt.figure()\n",
      "ax = fig.add_subplot(111)\n",
      "ax.set_xlabel('split')\n",
      "ax.set_ylabel('relative speed')\n",
      "data.groupby('split')['runtime'].apply(lambda x: data[data['split'] == 1]['runtime'].mean() / x.mean()).plot(ax=ax, marker='o')\n",
      "plt.xlim([data['split'].min(), data['split'].max()])\n",
      "plt.show()\n",
      "fig.savefig('figures/speed-vs-split.pdf')\n",
      "\n",
      "print data.groupby('split')['runtime'].apply(lambda x: data[data['split'] == 1]['runtime'].mean() / x.mean())\n"
     ],
     "language": "python",
     "metadata": {},
     "outputs": []
    },
    {
     "cell_type": "code",
     "collapsed": false,
     "input": [
      "input_vars = ['num_items', 'num_dimensions', 'slack', 'cov']\n",
      "\n",
      "problem_solution_counts = data[data['failcount'] == 0].groupby('problem-argshash').size()\n",
      "hard_problems = problems[~problems['argshash'].isin(problem_solution_counts.index)]\n",
      "print \"%d problems were not solved by any algorithm.\" % (len(hard_problems.index))\n",
      "  \n",
      "unsolved_count = len(problems.index) - len(problem_solution_counts.index)\n",
      "problem_stats = pd.DataFrame({ 'solution_counts' : problem_solution_counts })\n",
      "for solution_count, group in problem_stats.groupby('solution_counts'):\n",
      "    print \"%d problems were solved by %d algorithms.\" % (len(group.index), solution_count)\n",
      "    if solution_count == 3630:\n",
      "        easy_problems = problems[problems['argshash'].isin(group.index)]\n",
      "\n",
      "for ivar in input_vars:\n",
      "    fig = plt.figure()\n",
      "    ax = fig.add_subplot(111)\n",
      "    ax.set_xlabel(ivar)\n",
      "    ax.set_ylabel('problem count')\n",
      "    plt.xlim([problems[ivar].min(), problems[ivar].max()])\n",
      "    hard_problems.groupby(ivar).size().plot(marker='o', label='unsolved problems')\n",
      "    easy_problems.groupby(ivar).size().plot(marker='o', label='universally solved problems')\n",
      "    plt.legend(loc='upper left', bbox_to_anchor=(1.05, 1))\n",
      "    plt.show()    \n"
     ],
     "language": "python",
     "metadata": {},
     "outputs": []
    },
    {
     "cell_type": "code",
     "collapsed": false,
     "input": [
      "algo_vars = ['pack', 'select', 'itemsort', 'binsort']\n",
      "\n",
      "algo_solution_counts = data[data['failcount'] == 0].groupby(algo_vars).size()\n",
      "algo_runtimes = data.groupby(algo_vars)['runtime']\n",
      "\n",
      "algo_stats = pd.DataFrame({'solution_count' : algo_solution_counts, \n",
      "                           'runtime_mean' : algo_runtimes.mean(),\n",
      "                           'runtime_stddev' : algo_runtimes.std()})\n",
      "\n",
      "num_to_show = 23\n",
      "\n",
      "print algo_stats.groupby('solution_count').size()\n",
      "\n",
      "for solution_count, group in algo_stats.groupby('solution_count'):\n",
      "    if solution_count > 0:\n",
      "        print \"%d algorrithms solved %d problems.\" % (len(group.index), solution_count)\n",
      "        print \"The %d fastest were:\" %(num_to_show)\n",
      "        sorted_group = group.sort(columns=['runtime_mean'])\n",
      "        print sorted_group[['runtime_mean', 'runtime_stddev']].iloc[:min(num_to_show, len(sorted_group.index))]\n",
      "        print\n",
      "    "
     ],
     "language": "python",
     "metadata": {},
     "outputs": []
    },
    {
     "cell_type": "code",
     "collapsed": false,
     "input": [
      "algos = [\n",
      "    { 'pack' : 'pack_by_items', 'select' : 'none',      'itemsort' : 'none',       'binsort' : 'none' },\n",
      "    { 'pack' : 'pack_by_items', 'select' : 'a:sum',     'itemsort' : 'd:sum',      'binsort' : 'a:sum' },\n",
      "    { 'pack' : 'pack_by_items', 'select' : 'a:lnorm',   'itemsort' : 'd:lnorm',    'binsort' : 'a:lnorm' },\n",
      "    { 'pack' : 'pack_by_items', 'select' : 'a:maxdiff', 'itemsort' : 'd:lnorm',    'binsort' : 'd:maxratio' },\n",
      "    { 'pack' : 'pack_by_items', 'select' : 'pp',        'itemsort' : 'd:maxratio', 'binsort' : 'd:maxratio' },\n",
      "    { 'pack' : 'pack_by_bins',  'select' : 'none',      'itemsort' : 'none',       'binsort' : 'none' },\n",
      "    { 'pack' : 'pack_by_bins',  'select' : 'a:sum',     'itemsort' : 'd:sum',      'binsort' : 'a:sum' },\n",
      "    { 'pack' : 'pack_by_bins',  'select' : 'a:lnorm',   'itemsort' : 'd:lnorm',    'binsort' : 'a:lnorm' },\n",
      "    { 'pack' : 'pack_by_bins',  'select' : 'a:maxdiff', 'itemsort' : 'd:lnorm',    'binsort' : 'd:maxratio' },\n",
      "    { 'pack' : 'pack_by_bins',  'select' : 'pp',        'itemsort' : 'd:maxratio', 'binsort' : 'd:maxratio' },\n",
      "]\n",
      "\n",
      "for algo in algos:\n",
      "    algo_data = data[(data['pack'] == algo['pack']) & (data['select'] == algo['select']) &\n",
      "                     (data['itemsort'] == algo['itemsort']) & (data['binsort'] == algo['binsort'])]\n",
      "    algo_success_count = len(algo_data[algo_data['failcount'] == 0])\n",
      "    algo_avg_runtime = algo_data['runtime'].mean()\n",
      "    print (\"%(pack)s %(select)s %(itemsort)s %(binsort)s\" % (algo)).ljust(40),\n",
      "    print \"\\t%2d\\t%7.2f\" % (algo_success_count, algo_avg_runtime)\n"
     ],
     "language": "python",
     "metadata": {},
     "outputs": []
    },
    {
     "cell_type": "markdown",
     "metadata": {},
     "source": [
      "Let's look at per-algorithm parameter information:"
     ]
    },
    {
     "cell_type": "code",
     "collapsed": false,
     "input": [
      "tmpdata = data[(data['slack'] <= 0.5) & (data['cov'] >= 0.5)]\n",
      "\n",
      "for name, values in parameters:\n",
      "\n",
      "    for value in values:\n",
      "        value_data = tmpdata[(tmpdata[name] == value)]\n",
      "        value_success_count = len(value_data[value_data['failcount'] == 0])        \n",
      "        value_avg_runtime = value_data['runtime'].mean()\n",
      "        print (\"%s %s\" % (name, value)).ljust(20),\n",
      "        print \"\\t%2d\\t%7.2f\\t%7.2f\" % (value_success_count, 100.0 * float(value_success_count) / len(value_data), value_avg_runtime)\n"
     ],
     "language": "python",
     "metadata": {},
     "outputs": []
    },
    {
     "cell_type": "markdown",
     "metadata": {},
     "source": [
      "Now a scatter plot with time on the y axis and successes on the x axis...\n"
     ]
    },
    {
     "cell_type": "code",
     "collapsed": false,
     "input": [
      "fig = plt.figure()\n",
      "ax = fig.add_subplot(111)\n",
      "ax.set_xlabel('time')\n",
      "ax.set_ylabel('success count')\n",
      "plt.scatter(algo_stats['runtime_mean'], algo_stats['solution_count'])\n",
      "plt.show()   \n"
     ],
     "language": "python",
     "metadata": {},
     "outputs": []
    },
    {
     "cell_type": "code",
     "collapsed": false,
     "input": [
      "rounded_runtime_means = algo_stats['runtime_mean'].apply(lambda(x) : int(x / 10) * 10)\n",
      "new_algo_stats = algo_stats.join(pd.DataFrame({'rounded_runtime_mean' : rounded_runtime_means}))\n"
     ],
     "language": "python",
     "metadata": {},
     "outputs": []
    },
    {
     "cell_type": "code",
     "collapsed": false,
     "input": [
      "for rounded_runtime_mean, group in new_algo_stats.groupby('rounded_runtime_mean'):\n",
      "    print rounded_runtime_mean, len(group)\n",
      "    \n",
      "for solution_count, group in algo_stats.groupby('solution_count'):\n",
      "    if solution_count > 0:\n",
      "        print \"%d algorrithms solved %d problems.\" % (len(group.index), solution_count)\n",
      "        print \"The %d fastest were:\" %(num_to_show)\n",
      "        sorted_group = group.sort(columns=['runtime_mean'])\n",
      "        print sorted_group[['runtime_mean', 'runtime_stddev']].iloc[:min(num_to_show, len(sorted_group.index))]\n",
      "        print\n"
     ],
     "language": "python",
     "metadata": {},
     "outputs": []
    },
    {
     "cell_type": "code",
     "collapsed": false,
     "input": [],
     "language": "python",
     "metadata": {},
     "outputs": []
    }
   ],
   "metadata": {}
  }
 ]
}