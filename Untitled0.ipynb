{
 "metadata": {
  "name": ""
 },
 "nbformat": 3,
 "nbformat_minor": 0,
 "worksheets": [
  {
   "cells": [
    {
     "cell_type": "code",
     "collapsed": false,
     "input": [
      "from IPython.parallel import Client\n",
      "\n",
      "c = Client('/home/marklee/.config/ipython/profile_senbazuru/security/ipcontroller-client.json')\n",
      "v = c.load_balanced_view()\n",
      "\n",
      "for y in v.map(lambda x : \"Hello World!\", range(10)):\n",
      "    print(y)\n"
     ],
     "language": "python",
     "metadata": {},
     "outputs": [
      {
       "ename": "TimeoutError",
       "evalue": "Hub connection request timed out",
       "output_type": "pyerr",
       "traceback": [
        "\u001b[1;31m---------------------------------------------------------------------------\u001b[0m\n\u001b[1;31mTimeoutError\u001b[0m                              Traceback (most recent call last)",
        "\u001b[1;32m<ipython-input-15-072cfc57da3e>\u001b[0m in \u001b[0;36m<module>\u001b[1;34m()\u001b[0m\n\u001b[0;32m      1\u001b[0m \u001b[1;32mfrom\u001b[0m \u001b[0mIPython\u001b[0m\u001b[1;33m.\u001b[0m\u001b[0mparallel\u001b[0m \u001b[1;32mimport\u001b[0m \u001b[0mClient\u001b[0m\u001b[1;33m\u001b[0m\u001b[0m\n\u001b[0;32m      2\u001b[0m \u001b[1;33m\u001b[0m\u001b[0m\n\u001b[1;32m----> 3\u001b[1;33m \u001b[0mc\u001b[0m \u001b[1;33m=\u001b[0m \u001b[0mClient\u001b[0m\u001b[1;33m(\u001b[0m\u001b[1;34m'/home/marklee/.config/ipython/profile_senbazuru/security/ipcontroller-client.json'\u001b[0m\u001b[1;33m)\u001b[0m\u001b[1;33m\u001b[0m\u001b[0m\n\u001b[0m\u001b[0;32m      4\u001b[0m \u001b[0mv\u001b[0m \u001b[1;33m=\u001b[0m \u001b[0mc\u001b[0m\u001b[1;33m.\u001b[0m\u001b[0mload_balanced_view\u001b[0m\u001b[1;33m(\u001b[0m\u001b[1;33m)\u001b[0m\u001b[1;33m\u001b[0m\u001b[0m\n\u001b[0;32m      5\u001b[0m \u001b[1;33m\u001b[0m\u001b[0m\n",
        "\u001b[1;32m/home/marklee/.pyenv/versions/ipython3/lib/python3.3/site-packages/IPython/parallel/client/client.py\u001b[0m in \u001b[0;36m__init__\u001b[1;34m(self, url_file, profile, profile_dir, ipython_dir, context, debug, sshserver, sshkey, password, paramiko, timeout, cluster_id, **extra_args)\u001b[0m\n\u001b[0;32m    491\u001b[0m         self._queue_handlers = {'execute_reply' : self._handle_execute_reply,\n\u001b[0;32m    492\u001b[0m                                 'apply_reply' : self._handle_apply_reply}\n\u001b[1;32m--> 493\u001b[1;33m         \u001b[0mself\u001b[0m\u001b[1;33m.\u001b[0m\u001b[0m_connect\u001b[0m\u001b[1;33m(\u001b[0m\u001b[0msshserver\u001b[0m\u001b[1;33m,\u001b[0m \u001b[0mssh_kwargs\u001b[0m\u001b[1;33m,\u001b[0m \u001b[0mtimeout\u001b[0m\u001b[1;33m)\u001b[0m\u001b[1;33m\u001b[0m\u001b[0m\n\u001b[0m\u001b[0;32m    494\u001b[0m \u001b[1;33m\u001b[0m\u001b[0m\n\u001b[0;32m    495\u001b[0m         \u001b[1;31m# last step: setup magics, if we are in IPython:\u001b[0m\u001b[1;33m\u001b[0m\u001b[1;33m\u001b[0m\u001b[0m\n",
        "\u001b[1;32m/home/marklee/.pyenv/versions/ipython3/lib/python3.3/site-packages/IPython/parallel/client/client.py\u001b[0m in \u001b[0;36m_connect\u001b[1;34m(self, sshserver, ssh_kwargs, timeout)\u001b[0m\n\u001b[0;32m    608\u001b[0m         \u001b[0mevts\u001b[0m \u001b[1;33m=\u001b[0m \u001b[0mpoller\u001b[0m\u001b[1;33m.\u001b[0m\u001b[0mpoll\u001b[0m\u001b[1;33m(\u001b[0m\u001b[0mtimeout\u001b[0m\u001b[1;33m*\u001b[0m\u001b[1;36m1000\u001b[0m\u001b[1;33m)\u001b[0m\u001b[1;33m\u001b[0m\u001b[0m\n\u001b[0;32m    609\u001b[0m         \u001b[1;32mif\u001b[0m \u001b[1;32mnot\u001b[0m \u001b[0mevts\u001b[0m\u001b[1;33m:\u001b[0m\u001b[1;33m\u001b[0m\u001b[0m\n\u001b[1;32m--> 610\u001b[1;33m             \u001b[1;32mraise\u001b[0m \u001b[0merror\u001b[0m\u001b[1;33m.\u001b[0m\u001b[0mTimeoutError\u001b[0m\u001b[1;33m(\u001b[0m\u001b[1;34m\"Hub connection request timed out\"\u001b[0m\u001b[1;33m)\u001b[0m\u001b[1;33m\u001b[0m\u001b[0m\n\u001b[0m\u001b[0;32m    611\u001b[0m         \u001b[0midents\u001b[0m\u001b[1;33m,\u001b[0m\u001b[0mmsg\u001b[0m \u001b[1;33m=\u001b[0m \u001b[0mself\u001b[0m\u001b[1;33m.\u001b[0m\u001b[0msession\u001b[0m\u001b[1;33m.\u001b[0m\u001b[0mrecv\u001b[0m\u001b[1;33m(\u001b[0m\u001b[0mself\u001b[0m\u001b[1;33m.\u001b[0m\u001b[0m_query_socket\u001b[0m\u001b[1;33m,\u001b[0m\u001b[0mmode\u001b[0m\u001b[1;33m=\u001b[0m\u001b[1;36m0\u001b[0m\u001b[1;33m)\u001b[0m\u001b[1;33m\u001b[0m\u001b[0m\n\u001b[0;32m    612\u001b[0m         \u001b[1;32mif\u001b[0m \u001b[0mself\u001b[0m\u001b[1;33m.\u001b[0m\u001b[0mdebug\u001b[0m\u001b[1;33m:\u001b[0m\u001b[1;33m\u001b[0m\u001b[0m\n",
        "\u001b[1;31mTimeoutError\u001b[0m: Hub connection request timed out"
       ]
      }
     ],
     "prompt_number": 15
    },
    {
     "cell_type": "code",
     "collapsed": false,
     "input": [
      "from itertools import chain, cycle, product\n",
      "\n",
      "import pandas as pd\n",
      "\n",
      "from vectorpack.genprob import generate_problem_caprara\n",
      "\n",
      "input_vars = [ 'cls', 'num_items' ]\n",
      "paramsets = [\n",
      "    { 'cls' : range(1, 10), 'num_items': [ 25, 50, 100, 200 ], 'i' : range(10)},\n",
      "    { 'cls' : [10],         'num_items': [ 24, 51, 99, 201 ], 'i' : range(10)}    \n",
      "]\n",
      "\n",
      "problems = pd.DataFrame(\n",
      "    [dict([('cls', cls), ('num_items', num_items), ('i', i)] +\n",
      "    list(generate_problem_caprara(seed=\"seed: {:d} {:d} {:d}\".format(cls, num_items, i), \n",
      "                                  cls=cls, num_items=num_items).items()))\n",
      "    for cls, num_items, i in  chain(*[product(paramset['cls'], paramset['num_items'], paramset['i'])\n",
      "                                     for paramset in paramsets])]\n",
      ")\n",
      "\n",
      "problems"
     ],
     "language": "python",
     "metadata": {},
     "outputs": [
      {
       "html": [
        "<pre>\n",
        "&lt;class 'pandas.core.frame.DataFrame'&gt;\n",
        "Int64Index: 400 entries, 0 to 399\n",
        "Data columns (total 8 columns):\n",
        "args         400  non-null values\n",
        "argshash     400  non-null values\n",
        "bins         400  non-null values\n",
        "cls          400  non-null values\n",
        "i            400  non-null values\n",
        "items        400  non-null values\n",
        "note         400  non-null values\n",
        "num_items    400  non-null values\n",
        "dtypes: int64(3), object(5)\n",
        "</pre>"
       ],
       "metadata": {},
       "output_type": "pyout",
       "prompt_number": 1,
       "text": [
        "<class 'pandas.core.frame.DataFrame'>\n",
        "Int64Index: 400 entries, 0 to 399\n",
        "Data columns (total 8 columns):\n",
        "args         400  non-null values\n",
        "argshash     400  non-null values\n",
        "bins         400  non-null values\n",
        "cls          400  non-null values\n",
        "i            400  non-null values\n",
        "items        400  non-null values\n",
        "note         400  non-null values\n",
        "num_items    400  non-null values\n",
        "dtypes: int64(3), object(5)"
       ]
      }
     ],
     "prompt_number": 1
    },
    {
     "cell_type": "code",
     "collapsed": false,
     "input": [
      "from vectorpack.bounds import bound_lc\n",
      "\n",
      "idxs, bounds = zip(*[(idx, bound_lc(problem=problem)) for idx, problem in problems.iterrows()])\n",
      "problems['bound_lc'] = pd.Series(index=idxs, data=bounds)\n",
      "\n",
      "problems"
     ],
     "language": "python",
     "metadata": {},
     "outputs": [
      {
       "html": [
        "<pre>\n",
        "&lt;class 'pandas.core.frame.DataFrame'&gt;\n",
        "Int64Index: 400 entries, 0 to 399\n",
        "Data columns (total 9 columns):\n",
        "args         400  non-null values\n",
        "argshash     400  non-null values\n",
        "bins         400  non-null values\n",
        "cls          400  non-null values\n",
        "i            400  non-null values\n",
        "items        400  non-null values\n",
        "note         400  non-null values\n",
        "num_items    400  non-null values\n",
        "bound_lc     400  non-null values\n",
        "dtypes: int64(4), object(5)\n",
        "</pre>"
       ],
       "metadata": {},
       "output_type": "pyout",
       "prompt_number": 2,
       "text": [
        "<class 'pandas.core.frame.DataFrame'>\n",
        "Int64Index: 400 entries, 0 to 399\n",
        "Data columns (total 9 columns):\n",
        "args         400  non-null values\n",
        "argshash     400  non-null values\n",
        "bins         400  non-null values\n",
        "cls          400  non-null values\n",
        "i            400  non-null values\n",
        "items        400  non-null values\n",
        "note         400  non-null values\n",
        "num_items    400  non-null values\n",
        "bound_lc     400  non-null values\n",
        "dtypes: int64(4), object(5)"
       ]
      }
     ],
     "prompt_number": 2
    },
    {
     "cell_type": "code",
     "collapsed": false,
     "input": [
      "from vectorpack import pack_vectors\n",
      "\n",
      "algo_params = {\n",
      "    'pack' : [ 'pack_by_items', 'pack_by_bins' ],\n",
      "    'select' : [ 'none', 'a:sum', 'd:sum', 'a:max', 'd:max', 'a:maxdiff', 'd:maxdiff', 'a:imaxratio', 'd:imaxratio',\n",
      "                 'a:lnorm', 'd:lnorm', 'pp', 'pp:w=2', 'cp:w=1', 'cp:w=2' ],\n",
      "    'itemsort' : [ 'none', 'a:sum', 'd:sum', 'a:max', 'd:max', 'a:maxdiff', 'd:maxdiff', 'a:imaxratio', 'd:imaxratio',\n",
      "                   'a:lnorm', 'd:lnorm' ],\n",
      "    'binsort' : [ 'none', 'a:sum', 'd:sum', 'a:max', 'd:max', 'a:maxdiff', 'd:maxdiff', 'a:imaxratio', 'd:imaxratio',\n",
      "                  'a:lnorm', 'd:lnorm' ],\n",
      "}\n",
      "\n",
      "algo_name_format = '{pack:<13s} {select:<10s} {itemsort:<10s} {binsort:<10s}'\n",
      "\n",
      "algos = map(dict, product(*[[(name, value) for value in values] for name, values in algo_params.items()]))\n",
      "\n",
      "algos = [\n",
      "    { 'pack' : 'pack_by_items', 'select' : 'none',      'itemsort' : 'none',       'binsort' : 'none' },\n",
      "    { 'pack' : 'pack_by_items', 'select' : 'a:sum',     'itemsort' : 'd:sum',      'binsort' : 'a:sum' },\n",
      "    { 'pack' : 'pack_by_items', 'select' : 'a:lnorm',   'itemsort' : 'd:lnorm',    'binsort' : 'a:lnorm' },\n",
      "    { 'pack' : 'pack_by_items', 'select' : 'a:maxdiff', 'itemsort' : 'd:lnorm',    'binsort' : 'd:maxratio' },\n",
      "    { 'pack' : 'pack_by_items', 'select' : 'pp',        'itemsort' : 'd:maxratio', 'binsort' : 'd:maxratio' },\n",
      "    { 'pack' : 'pack_by_bins',  'select' : 'none',      'itemsort' : 'none',       'binsort' : 'none' },\n",
      "    { 'pack' : 'pack_by_bins',  'select' : 'a:sum',     'itemsort' : 'd:sum',      'binsort' : 'a:sum' },\n",
      "    { 'pack' : 'pack_by_bins',  'select' : 'a:lnorm',   'itemsort' : 'd:lnorm',    'binsort' : 'a:lnorm' },\n",
      "    { 'pack' : 'pack_by_bins',  'select' : 'a:maxdiff', 'itemsort' : 'd:lnorm',    'binsort' : 'd:maxratio' },\n",
      "    { 'pack' : 'pack_by_bins',  'select' : 'pp',        'itemsort' : 'd:maxratio', 'binsort' : 'd:maxratio' },\n",
      "]\n",
      "\n",
      "solutions = pd.DataFrame([dict([('probidx', idx_problem[0])] +\n",
      "                               list(pack_vectors(problem=idx_problem[1], **algo).items())) \n",
      "                          for idx_problem, algo in product(problems.iterrows(), algos)])\n",
      "\n",
      "solutions"
     ],
     "language": "python",
     "metadata": {},
     "outputs": [
      {
       "html": [
        "<pre>\n",
        "&lt;class 'pandas.core.frame.DataFrame'&gt;\n",
        "Int64Index: 4000 entries, 0 to 3999\n",
        "Data columns (total 14 columns):\n",
        "bincount            4000  non-null values\n",
        "binsort             4000  non-null values\n",
        "datetime            4000  non-null values\n",
        "failcount           4000  non-null values\n",
        "itemsort            4000  non-null values\n",
        "mapping             4000  non-null values\n",
        "pack                4000  non-null values\n",
        "probidx             4000  non-null values\n",
        "problem-argshash    4000  non-null values\n",
        "runtime             4000  non-null values\n",
        "select              4000  non-null values\n",
        "solver-githash      4000  non-null values\n",
        "split               4000  non-null values\n",
        "verified            4000  non-null values\n",
        "dtypes: bool(1), datetime64[ns](1), float64(1), int64(4), object(7)\n",
        "</pre>"
       ],
       "metadata": {},
       "output_type": "pyout",
       "prompt_number": 3,
       "text": [
        "<class 'pandas.core.frame.DataFrame'>\n",
        "Int64Index: 4000 entries, 0 to 3999\n",
        "Data columns (total 14 columns):\n",
        "bincount            4000  non-null values\n",
        "binsort             4000  non-null values\n",
        "datetime            4000  non-null values\n",
        "failcount           4000  non-null values\n",
        "itemsort            4000  non-null values\n",
        "mapping             4000  non-null values\n",
        "pack                4000  non-null values\n",
        "probidx             4000  non-null values\n",
        "problem-argshash    4000  non-null values\n",
        "runtime             4000  non-null values\n",
        "select              4000  non-null values\n",
        "solver-githash      4000  non-null values\n",
        "split               4000  non-null values\n",
        "verified            4000  non-null values\n",
        "dtypes: bool(1), datetime64[ns](1), float64(1), int64(4), object(7)"
       ]
      }
     ],
     "prompt_number": 3
    },
    {
     "cell_type": "code",
     "collapsed": false,
     "input": [
      "data = pd.merge(problems, solutions, left_index=True, right_on='probidx')\n",
      "\n",
      "data"
     ],
     "language": "python",
     "metadata": {},
     "outputs": [
      {
       "html": [
        "<pre>\n",
        "&lt;class 'pandas.core.frame.DataFrame'&gt;\n",
        "Int64Index: 4000 entries, 0 to 3999\n",
        "Data columns (total 23 columns):\n",
        "args                4000  non-null values\n",
        "argshash            4000  non-null values\n",
        "bins                4000  non-null values\n",
        "cls                 4000  non-null values\n",
        "i                   4000  non-null values\n",
        "items               4000  non-null values\n",
        "note                4000  non-null values\n",
        "num_items           4000  non-null values\n",
        "bound_lc            4000  non-null values\n",
        "bincount            4000  non-null values\n",
        "binsort             4000  non-null values\n",
        "datetime            4000  non-null values\n",
        "failcount           4000  non-null values\n",
        "itemsort            4000  non-null values\n",
        "mapping             4000  non-null values\n",
        "pack                4000  non-null values\n",
        "probidx             4000  non-null values\n",
        "problem-argshash    4000  non-null values\n",
        "runtime             4000  non-null values\n",
        "select              4000  non-null values\n",
        "solver-githash      4000  non-null values\n",
        "split               4000  non-null values\n",
        "verified            4000  non-null values\n",
        "dtypes: bool(1), datetime64[ns](1), float64(1), int64(8), object(12)\n",
        "</pre>"
       ],
       "metadata": {},
       "output_type": "pyout",
       "prompt_number": 4,
       "text": [
        "<class 'pandas.core.frame.DataFrame'>\n",
        "Int64Index: 4000 entries, 0 to 3999\n",
        "Data columns (total 23 columns):\n",
        "args                4000  non-null values\n",
        "argshash            4000  non-null values\n",
        "bins                4000  non-null values\n",
        "cls                 4000  non-null values\n",
        "i                   4000  non-null values\n",
        "items               4000  non-null values\n",
        "note                4000  non-null values\n",
        "num_items           4000  non-null values\n",
        "bound_lc            4000  non-null values\n",
        "bincount            4000  non-null values\n",
        "binsort             4000  non-null values\n",
        "datetime            4000  non-null values\n",
        "failcount           4000  non-null values\n",
        "itemsort            4000  non-null values\n",
        "mapping             4000  non-null values\n",
        "pack                4000  non-null values\n",
        "probidx             4000  non-null values\n",
        "problem-argshash    4000  non-null values\n",
        "runtime             4000  non-null values\n",
        "select              4000  non-null values\n",
        "solver-githash      4000  non-null values\n",
        "split               4000  non-null values\n",
        "verified            4000  non-null values\n",
        "dtypes: bool(1), datetime64[ns](1), float64(1), int64(8), object(12)"
       ]
      }
     ],
     "prompt_number": 4
    },
    {
     "cell_type": "code",
     "collapsed": false,
     "input": [
      "from vectorpack.genprob import generate_problem_caprara\n",
      "from vectorpack import pack_vectors\n",
      "algos = [\n",
      "    { 'pack' : 'pack_by_items', 'select' : 'pp',        'itemsort' : 'd:maxratio', 'binsort' : 'd:maxratio' },\n",
      "]\n",
      "\n",
      "problem = generate_problem_caprara(seed=0, cls=1, num_items=200)"
     ],
     "language": "python",
     "metadata": {},
     "outputs": [],
     "prompt_number": 5
    },
    {
     "cell_type": "code",
     "collapsed": false,
     "input": [
      "from vectorpack.interface import pack_vectors_gabay2013vsv\n",
      "from vsvbp.heuristics import bfd_item_centric\n",
      "from vsvbp.measures import do_nothing\n",
      "print(pack_vectors(problem=problem, pack='pack_by_items', select='none', itemsort='none', binsort='none'))\n",
      "print(pack_vectors_gabay2013vsv(problem=problem, heuristic=bfd_item_centric, item_measure=do_nothing, bin_measure=do_nothing))"
     ],
     "language": "python",
     "metadata": {},
     "outputs": [
      {
       "output_type": "stream",
       "stream": "stdout",
       "text": [
        "{'runtime': 0.35544214900000004, 'binsort': 'none', 'mapping': [0, 0, 0, 1, 1, 2, 2, 1, 2, 3, 3, 3, 4, 3, 4, 5, 5, 5, 6, 4, 6, 6, 7, 4, 7, 7, 8, 6, 8, 8, 9, 9, 9, 10, 10, 11, 7, 11, 10, 11, 12, 12, 12, 12, 12, 13, 13, 14, 13, 14, 15, 15, 15, 16, 16, 14, 16, 17, 17, 17, 17, 18, 18, 16, 18, 19, 19, 19, 15, 18, 20, 20, 20, 21, 20, 21, 21, 22, 21, 22, 22, 23, 23, 23, 24, 22, 24, 24, 25, 25, 25, 26, 24, 26, 26, 27, 27, 27, 28, 28, 28, 29, 29, 0, 29, 30, 30, 30, 29, 31, 31, 31, 32, 32, 32, 33, 33, 33, 34, 34, 35, 28, 34, 35, 33, 35, 35, 36, 36, 31, 36, 36, 37, 37, 37, 38, 38, 9, 23, 38, 39, 39, 40, 39, 40, 40, 41, 1, 41, 41, 38, 42, 41, 42, 42, 43, 43, 43, 44, 42, 44, 44, 45, 45, 44, 45, 46, 46, 46, 47, 47, 47, 48, 48, 47, 48, 49, 35, 49, 49, 50, 50, 48, 51, 50, 51, 51, 51, 52, 52, 52, 53, 53, 53, 53, 54, 54, 54, 55, 55], 'pack': 'pack_by_items', 'split': 1, 'itemsort': 'none', 'solver-githash': 'GITHASH', 'datetime': datetime.datetime(2014, 1, 29, 0, 18, 11, 212033), 'problem-argshash': 'b7e14e4f7599cb50e2bf78885d6ed8490f63444f', 'failcount': 0, 'select': 'none', 'verified': True, 'bincount': 56}\n",
        "{'runtime': 0.013497532000000145, 'mapping': [0, 0, 0, 1, 1, 2, 2, 1, 2, 3, 3, 3, 4, 3, 4, 5, 5, 5, 6, 4, 6, 6, 7, 4, 7, 7, 8, 6, 8, 8, 9, 9, 9, 10, 10, 11, 7, 11, 10, 11, 12, 12, 12, 12, 12, 13, 13, 14, 13, 14, 15, 15, 15, 16, 16, 14, 16, 17, 17, 17, 17, 18, 18, 16, 18, 19, 19, 19, 15, 18, 20, 20, 20, 21, 20, 21, 21, 22, 21, 22, 22, 23, 23, 23, 24, 22, 24, 24, 25, 25, 25, 26, 24, 26, 26, 27, 27, 27, 28, 28, 28, 29, 29, 0, 29, 30, 30, 30, 29, 31, 31, 31, 32, 32, 32, 33, 33, 33, 34, 34, 35, 28, 34, 35, 33, 35, 35, 36, 36, 31, 36, 36, 37, 37, 37, 38, 38, 9, 23, 38, 39, 39, 40, 39, 40, 40, 41, 1, 41, 41, 38, 42, 41, 42, 42, 43, 43, 43, 44, 42, 44, 44, 45, 45, 44, 45, 46, 46, 46, 47, 47, 47, 48, 48, 47, 48, 49, 35, 49, 49, 50, 50, 48, 51, 50, 51, 51, 51, 52, 52, 52, 53, 53, 53, 53, 54, 54, 54, 55, 55], 'algorithm': {'type': 'heuristic', 'params': None, 'family': 'gabay2013vsv'}, 'solver-githash': 'GITHASH', 'datetime': datetime.datetime(2014, 1, 29, 0, 18, 11, 234450), 'problem-argshash': 'b7e14e4f7599cb50e2bf78885d6ed8490f63444f', 'verified': True, 'bincount': 56, 'failcount': 0}\n"
       ]
      }
     ],
     "prompt_number": 6
    },
    {
     "cell_type": "code",
     "collapsed": false,
     "input": [],
     "language": "python",
     "metadata": {},
     "outputs": []
    }
   ],
   "metadata": {}
  }
 ]
}