{
 "metadata": {
  "name": ""
 },
 "nbformat": 3,
 "nbformat_minor": 0,
 "worksheets": [
  {
   "cells": [
    {
     "cell_type": "code",
     "collapsed": false,
     "input": [
      "from itertools import chain, cycle, product\n",
      "\n",
      "import pandas as pd\n",
      "\n",
      "from vectorpack.genprob import generate_problem_caprara\n",
      "\n",
      "input_vars = [ 'cls', 'num_items' ]\n",
      "paramsets = [\n",
      "    { 'cls' : range(1, 10), 'num_items': [ 25, 50, 100, 200 ], 'i' : range(10)},\n",
      "    { 'cls' : [10],         'num_items': [ 24, 51, 99, 201 ], 'i' : range(10)}    \n",
      "]\n",
      "\n",
      "problems = pd.DataFrame(\n",
      "    [dict([('cls', cls), ('num_items', num_items), ('i', i)] +\n",
      "    list(generate_problem_caprara(seed=\"seed: {:d} {:d} {:d}\".format(cls, num_items, i), \n",
      "                                  cls=cls, num_items=num_items).items()))\n",
      "    for cls, num_items, i in  chain(*[product(paramset['cls'], paramset['num_items'], paramset['i'])\n",
      "                                     for paramset in paramsets])]\n",
      ")\n",
      "\n",
      "problems"
     ],
     "language": "python",
     "metadata": {},
     "outputs": [
      {
       "ename": "ImportError",
       "evalue": "No module named 'pandas'",
       "output_type": "pyerr",
       "traceback": [
        "\u001b[1;31m---------------------------------------------------------------------------\u001b[0m\n\u001b[1;31mImportError\u001b[0m                               Traceback (most recent call last)",
        "\u001b[1;32m<ipython-input-1-ee44dfacfc6d>\u001b[0m in \u001b[0;36m<module>\u001b[1;34m()\u001b[0m\n\u001b[0;32m      1\u001b[0m \u001b[1;32mfrom\u001b[0m \u001b[0mitertools\u001b[0m \u001b[1;32mimport\u001b[0m \u001b[0mchain\u001b[0m\u001b[1;33m,\u001b[0m \u001b[0mcycle\u001b[0m\u001b[1;33m,\u001b[0m \u001b[0mproduct\u001b[0m\u001b[1;33m\u001b[0m\u001b[0m\n\u001b[0;32m      2\u001b[0m \u001b[1;33m\u001b[0m\u001b[0m\n\u001b[1;32m----> 3\u001b[1;33m \u001b[1;32mimport\u001b[0m \u001b[0mpandas\u001b[0m \u001b[1;32mas\u001b[0m \u001b[0mpd\u001b[0m\u001b[1;33m\u001b[0m\u001b[0m\n\u001b[0m\u001b[0;32m      4\u001b[0m \u001b[1;33m\u001b[0m\u001b[0m\n\u001b[0;32m      5\u001b[0m \u001b[1;32mfrom\u001b[0m \u001b[0mvectorpack\u001b[0m\u001b[1;33m.\u001b[0m\u001b[0mgenprob\u001b[0m \u001b[1;32mimport\u001b[0m \u001b[0mgenerate_problem_caprara\u001b[0m\u001b[1;33m\u001b[0m\u001b[0m\n",
        "\u001b[1;31mImportError\u001b[0m: No module named 'pandas'"
       ]
      }
     ],
     "prompt_number": 1
    },
    {
     "cell_type": "code",
     "collapsed": false,
     "input": [
      "from vectorpack.bounds import bound_lc\n",
      "\n",
      "idxs, bounds = zip(*[(idx, bound_lc(problem=problem)) for idx, problem in problems.iterrows()])\n",
      "problems['bound_lc'] = pd.Series(index=idxs, data=bounds)\n",
      "\n",
      "problems"
     ],
     "language": "python",
     "metadata": {},
     "outputs": []
    },
    {
     "cell_type": "code",
     "collapsed": false,
     "input": [
      "from vectorpack import pack_vectors\n",
      "\n",
      "algo_params = {\n",
      "    'pack' : [ 'pack_by_items', 'pack_by_bins' ],\n",
      "    'select' : [ 'none', 'a:sum', 'd:sum', 'a:max', 'd:max', 'a:maxdiff', 'd:maxdiff', 'a:imaxratio', 'd:imaxratio',\n",
      "                 'a:lnorm', 'd:lnorm', 'pp', 'pp:w=2', 'cp:w=1', 'cp:w=2' ],\n",
      "    'itemsort' : [ 'none', 'a:sum', 'd:sum', 'a:max', 'd:max', 'a:maxdiff', 'd:maxdiff', 'a:imaxratio', 'd:imaxratio',\n",
      "                   'a:lnorm', 'd:lnorm' ],\n",
      "    'binsort' : [ 'none', 'a:sum', 'd:sum', 'a:max', 'd:max', 'a:maxdiff', 'd:maxdiff', 'a:imaxratio', 'd:imaxratio',\n",
      "                  'a:lnorm', 'd:lnorm' ],\n",
      "}\n",
      "\n",
      "algo_name_format = '{pack:<13s} {select:<10s} {itemsort:<10s} {binsort:<10s}'\n",
      "\n",
      "algos = map(dict, product(*[[(name, value) for value in values] for name, values in algo_params.items()]))\n",
      "\n",
      "algos = [\n",
      "    { 'pack' : 'pack_by_items', 'select' : 'none',      'itemsort' : 'none',       'binsort' : 'none' },\n",
      "    { 'pack' : 'pack_by_items', 'select' : 'a:sum',     'itemsort' : 'd:sum',      'binsort' : 'a:sum' },\n",
      "    { 'pack' : 'pack_by_items', 'select' : 'a:maxdiff', 'itemsort' : 'd:lnorm',    'binsort' : 'd:maxratio' },\n",
      "    { 'pack' : 'pack_by_items', 'select' : 'pp',        'itemsort' : 'd:maxratio', 'binsort' : 'd:maxratio' },\n",
      "    { 'pack' : 'pack_by_bins',  'select' : 'none',      'itemsort' : 'none',       'binsort' : 'none' },\n",
      "    { 'pack' : 'pack_by_bins',  'select' : 'a:sum',     'itemsort' : 'd:sum',      'binsort' : 'a:sum' },\n",
      "    { 'pack' : 'pack_by_bins',  'select' : 'a:maxdiff', 'itemsort' : 'd:lnorm',    'binsort' : 'd:maxratio' },\n",
      "    { 'pack' : 'pack_by_bins',  'select' : 'pp',        'itemsort' : 'd:maxratio', 'binsort' : 'd:maxratio' },\n",
      "]\n",
      "\n",
      "solutions = pd.DataFrame([dict([('probidx', idx_problem[0])] +\n",
      "                               list(pack_vectors(problem=idx_problem[1], **algo).items())) \n",
      "                          for idx_problem, algo in product(problems.iterrows(), algos)])\n",
      "\n",
      "solutions"
     ],
     "language": "python",
     "metadata": {},
     "outputs": []
    },
    {
     "cell_type": "code",
     "collapsed": false,
     "input": [
      "data = pd.merge(problems, solutions, left_index=True, right_on='probidx')\n",
      "\n",
      "data"
     ],
     "language": "python",
     "metadata": {},
     "outputs": [
      {
       "ename": "NameError",
       "evalue": "name 'pd' is not defined",
       "output_type": "pyerr",
       "traceback": [
        "\u001b[1;31m---------------------------------------------------------------------------\u001b[0m\n\u001b[1;31mNameError\u001b[0m                                 Traceback (most recent call last)",
        "\u001b[1;32m<ipython-input-2-49a67ea7b5ac>\u001b[0m in \u001b[0;36m<module>\u001b[1;34m()\u001b[0m\n\u001b[1;32m----> 1\u001b[1;33m \u001b[0mdata\u001b[0m \u001b[1;33m=\u001b[0m \u001b[0mpd\u001b[0m\u001b[1;33m.\u001b[0m\u001b[0mmerge\u001b[0m\u001b[1;33m(\u001b[0m\u001b[0mproblems\u001b[0m\u001b[1;33m,\u001b[0m \u001b[0msolutions\u001b[0m\u001b[1;33m,\u001b[0m \u001b[0mleft_index\u001b[0m\u001b[1;33m=\u001b[0m\u001b[1;32mTrue\u001b[0m\u001b[1;33m,\u001b[0m \u001b[0mright_on\u001b[0m\u001b[1;33m=\u001b[0m\u001b[1;34m'probidx'\u001b[0m\u001b[1;33m)\u001b[0m\u001b[1;33m\u001b[0m\u001b[0m\n\u001b[0m\u001b[0;32m      2\u001b[0m \u001b[1;33m\u001b[0m\u001b[0m\n\u001b[0;32m      3\u001b[0m \u001b[0mdata\u001b[0m\u001b[1;33m\u001b[0m\u001b[0m\n",
        "\u001b[1;31mNameError\u001b[0m: name 'pd' is not defined"
       ]
      }
     ],
     "prompt_number": 2
    },
    {
     "cell_type": "code",
     "collapsed": false,
     "input": [
      "from vectorpack.genprob import generate_problem_caprara\n",
      "from vectorpack import pack_vectors\n",
      "algos = [\n",
      "    { 'pack' : 'pack_by_items', 'select' : 'pp',        'itemsort' : 'd:maxratio', 'binsort' : 'd:maxratio' },\n",
      "]\n",
      "\n",
      "problem = generate_problem_caprara(seed=0, cls=1, num_items=200)"
     ],
     "language": "python",
     "metadata": {},
     "outputs": []
    },
    {
     "cell_type": "code",
     "collapsed": false,
     "input": [
      "from vectorpack.interface import pack_vectors_gabay2013vsv\n",
      "from vsvbp.heuristics import bfd_item_centric\n",
      "from vsvbp.measures import do_nothing\n",
      "print(pack_vectors(problem=problem, pack='pack_by_items', select='none', itemsort='none', binsort='none'))\n",
      "print(pack_vectors_gabay2013vsv(problem=problem, heuristic=bfd_item_centric, item_measure=do_nothing, bin_measure=do_nothing))"
     ],
     "language": "python",
     "metadata": {},
     "outputs": []
    },
    {
     "cell_type": "code",
     "collapsed": false,
     "input": [],
     "language": "python",
     "metadata": {},
     "outputs": []
    }
   ],
   "metadata": {}
  }
 ]
}