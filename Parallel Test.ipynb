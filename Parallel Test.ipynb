{
 "metadata": {
  "name": ""
 },
 "nbformat": 3,
 "nbformat_minor": 0,
 "worksheets": [
  {
   "cells": [
    {
     "cell_type": "code",
     "collapsed": false,
     "input": [
      "from itertools import chain, cycle, product\n",
      "\n",
      "import pandas as pd\n",
      "\n",
      "from vectorpack.genprob import generate_problem_caprara\n",
      "\n",
      "input_vars = [ 'cls', 'num_items' ]\n",
      "paramsets = [\n",
      "    { 'cls' : range(1, 10), 'num_items': [ 25, 50, 100, 200 ], 'i' : range(1)},\n",
      "    { 'cls' : [10],         'num_items': [ 24, 51, 99, 201 ], 'i' : range(1)}    \n",
      "]\n",
      "\n",
      "problems = pd.DataFrame(\n",
      "    [dict([('cls', cls), ('num_items', num_items), ('i', i)] +\n",
      "    list(generate_problem_caprara(seed=\"seed: {:d} {:d} {:d}\".format(cls, num_items, i), \n",
      "                                  cls=cls, num_items=num_items).items()))\n",
      "    for cls, num_items, i in  chain(*[product(paramset['cls'], paramset['num_items'], paramset['i'])\n",
      "                                     for paramset in paramsets])]\n",
      ")\n",
      "\n",
      "problems.describe()"
     ],
     "language": "python",
     "metadata": {},
     "outputs": [
      {
       "html": [
        "<div style=\"max-height:1000px;max-width:1500px;overflow:auto;\">\n",
        "<table border=\"1\" class=\"dataframe\">\n",
        "  <thead>\n",
        "    <tr style=\"text-align: right;\">\n",
        "      <th></th>\n",
        "      <th>cls</th>\n",
        "      <th>i</th>\n",
        "      <th>num_items</th>\n",
        "    </tr>\n",
        "  </thead>\n",
        "  <tbody>\n",
        "    <tr>\n",
        "      <th>count</th>\n",
        "      <td> 40.000000</td>\n",
        "      <td> 40</td>\n",
        "      <td>  40.000000</td>\n",
        "    </tr>\n",
        "    <tr>\n",
        "      <th>mean</th>\n",
        "      <td>  5.500000</td>\n",
        "      <td>  0</td>\n",
        "      <td>  93.750000</td>\n",
        "    </tr>\n",
        "    <tr>\n",
        "      <th>std</th>\n",
        "      <td>  2.908872</td>\n",
        "      <td>  0</td>\n",
        "      <td>  67.925581</td>\n",
        "    </tr>\n",
        "    <tr>\n",
        "      <th>min</th>\n",
        "      <td>  1.000000</td>\n",
        "      <td>  0</td>\n",
        "      <td>  24.000000</td>\n",
        "    </tr>\n",
        "    <tr>\n",
        "      <th>25%</th>\n",
        "      <td>  3.000000</td>\n",
        "      <td>  0</td>\n",
        "      <td>  43.750000</td>\n",
        "    </tr>\n",
        "    <tr>\n",
        "      <th>50%</th>\n",
        "      <td>  5.500000</td>\n",
        "      <td>  0</td>\n",
        "      <td>  75.000000</td>\n",
        "    </tr>\n",
        "    <tr>\n",
        "      <th>75%</th>\n",
        "      <td>  8.000000</td>\n",
        "      <td>  0</td>\n",
        "      <td> 125.000000</td>\n",
        "    </tr>\n",
        "    <tr>\n",
        "      <th>max</th>\n",
        "      <td> 10.000000</td>\n",
        "      <td>  0</td>\n",
        "      <td> 201.000000</td>\n",
        "    </tr>\n",
        "  </tbody>\n",
        "</table>\n",
        "<p>8 rows \u00d7 3 columns</p>\n",
        "</div>"
       ],
       "metadata": {},
       "output_type": "pyout",
       "prompt_number": 5,
       "text": [
        "             cls   i   num_items\n",
        "count  40.000000  40   40.000000\n",
        "mean    5.500000   0   93.750000\n",
        "std     2.908872   0   67.925581\n",
        "min     1.000000   0   24.000000\n",
        "25%     3.000000   0   43.750000\n",
        "50%     5.500000   0   75.000000\n",
        "75%     8.000000   0  125.000000\n",
        "max    10.000000   0  201.000000\n",
        "\n",
        "[8 rows x 3 columns]"
       ]
      }
     ],
     "prompt_number": 5
    },
    {
     "cell_type": "code",
     "collapsed": false,
     "input": [
      "from vectorpack.bounds import bound_lc\n",
      "\n",
      "idxs, bounds = zip(*[(idx, bound_lc(problem=problem)) for idx, problem in problems.iterrows()])\n",
      "problems['bound_lc'] = pd.Series(index=idxs, data=bounds)\n",
      "\n",
      "problems.describe()"
     ],
     "language": "python",
     "metadata": {},
     "outputs": [
      {
       "html": [
        "<div style=\"max-height:1000px;max-width:1500px;overflow:auto;\">\n",
        "<table border=\"1\" class=\"dataframe\">\n",
        "  <thead>\n",
        "    <tr style=\"text-align: right;\">\n",
        "      <th></th>\n",
        "      <th>cls</th>\n",
        "      <th>i</th>\n",
        "      <th>num_items</th>\n",
        "      <th>bound_lc</th>\n",
        "    </tr>\n",
        "  </thead>\n",
        "  <tbody>\n",
        "    <tr>\n",
        "      <th>count</th>\n",
        "      <td> 40.000000</td>\n",
        "      <td> 40</td>\n",
        "      <td>  40.000000</td>\n",
        "      <td>  40.000000</td>\n",
        "    </tr>\n",
        "    <tr>\n",
        "      <th>mean</th>\n",
        "      <td>  5.500000</td>\n",
        "      <td>  0</td>\n",
        "      <td>  93.750000</td>\n",
        "      <td>  31.450000</td>\n",
        "    </tr>\n",
        "    <tr>\n",
        "      <th>std</th>\n",
        "      <td>  2.908872</td>\n",
        "      <td>  0</td>\n",
        "      <td>  67.925581</td>\n",
        "      <td>  28.126044</td>\n",
        "    </tr>\n",
        "    <tr>\n",
        "      <th>min</th>\n",
        "      <td>  1.000000</td>\n",
        "      <td>  0</td>\n",
        "      <td>  24.000000</td>\n",
        "      <td>   2.000000</td>\n",
        "    </tr>\n",
        "    <tr>\n",
        "      <th>25%</th>\n",
        "      <td>  3.000000</td>\n",
        "      <td>  0</td>\n",
        "      <td>  43.750000</td>\n",
        "      <td>  11.750000</td>\n",
        "    </tr>\n",
        "    <tr>\n",
        "      <th>50%</th>\n",
        "      <td>  5.500000</td>\n",
        "      <td>  0</td>\n",
        "      <td>  75.000000</td>\n",
        "      <td>  21.500000</td>\n",
        "    </tr>\n",
        "    <tr>\n",
        "      <th>75%</th>\n",
        "      <td>  8.000000</td>\n",
        "      <td>  0</td>\n",
        "      <td> 125.000000</td>\n",
        "      <td>  45.250000</td>\n",
        "    </tr>\n",
        "    <tr>\n",
        "      <th>max</th>\n",
        "      <td> 10.000000</td>\n",
        "      <td>  0</td>\n",
        "      <td> 201.000000</td>\n",
        "      <td> 107.000000</td>\n",
        "    </tr>\n",
        "  </tbody>\n",
        "</table>\n",
        "<p>8 rows \u00d7 4 columns</p>\n",
        "</div>"
       ],
       "metadata": {},
       "output_type": "pyout",
       "prompt_number": 6,
       "text": [
        "             cls   i   num_items    bound_lc\n",
        "count  40.000000  40   40.000000   40.000000\n",
        "mean    5.500000   0   93.750000   31.450000\n",
        "std     2.908872   0   67.925581   28.126044\n",
        "min     1.000000   0   24.000000    2.000000\n",
        "25%     3.000000   0   43.750000   11.750000\n",
        "50%     5.500000   0   75.000000   21.500000\n",
        "75%     8.000000   0  125.000000   45.250000\n",
        "max    10.000000   0  201.000000  107.000000\n",
        "\n",
        "[8 rows x 4 columns]"
       ]
      }
     ],
     "prompt_number": 6
    },
    {
     "cell_type": "code",
     "collapsed": false,
     "input": [
      "from vectorpack import pack_vectors\n",
      "\n",
      "algo_vars = [ 'pack', 'select', 'itemsort', 'binsort' ]\n",
      "\n",
      "algo_params = {\n",
      "    'pack' : [ 'pack_by_items', 'pack_by_bins' ],\n",
      "    'select' : [ 'none', 'a:sum', 'd:sum', 'a:max', 'd:max', 'a:maxdiff', 'd:maxdiff', 'a:imaxratio', 'd:imaxratio',\n",
      "                 'a:lnorm', 'd:lnorm', 'pp', 'pp:w=2', 'cp:w=1', 'cp:w=2' ],\n",
      "    'itemsort' : [ 'none', 'a:sum', 'd:sum', 'a:max', 'd:max', 'a:maxdiff', 'd:maxdiff', 'a:imaxratio', 'd:imaxratio',\n",
      "                   'a:lnorm', 'd:lnorm' ],\n",
      "    'binsort' : [ 'none', 'a:sum', 'd:sum', 'a:max', 'd:max', 'a:maxdiff', 'd:maxdiff', 'a:imaxratio', 'd:imaxratio',\n",
      "                  'a:lnorm', 'd:lnorm' ],\n",
      "}\n",
      "\n",
      "algo_name_format = '{pack:<13s} {select:<10s} {itemsort:<10s} {binsort:<10s}'\n",
      "\n",
      "algos = map(dict, product(*[[(name, value) for value in values] for name, values in algo_params.items()]))\n",
      "\n",
      "algos = [\n",
      "    { 'pack' : 'pack_by_items', 'select' : 'none',      'itemsort' : 'none',       'binsort' : 'none' },\n",
      "#    { 'pack' : 'pack_by_items', 'select' : 'a:sum',     'itemsort' : 'd:sum',      'binsort' : 'a:sum' },\n",
      "#    { 'pack' : 'pack_by_items', 'select' : 'a:maxdiff', 'itemsort' : 'd:lnorm',    'binsort' : 'd:maxratio' },\n",
      "#    { 'pack' : 'pack_by_items', 'select' : 'pp',        'itemsort' : 'd:maxratio', 'binsort' : 'd:maxratio' },\n",
      "#    { 'pack' : 'pack_by_bins',  'select' : 'none',      'itemsort' : 'none',       'binsort' : 'none' },\n",
      "#    { 'pack' : 'pack_by_bins',  'select' : 'a:sum',     'itemsort' : 'd:sum',      'binsort' : 'a:sum' },\n",
      "#    { 'pack' : 'pack_by_bins',  'select' : 'a:maxdiff', 'itemsort' : 'd:lnorm',    'binsort' : 'd:maxratio' },\n",
      "#    { 'pack' : 'pack_by_bins',  'select' : 'pp',        'itemsort' : 'd:maxratio', 'binsort' : 'd:maxratio' },\n",
      "#    { 'pack' : 'pack_by_bins',  'select' : 'd:sum',     'itemsort' : 'a:sum',      'binsort' : 'd:sum' },\n",
      "]"
     ],
     "language": "python",
     "metadata": {},
     "outputs": [],
     "prompt_number": 7
    },
    {
     "cell_type": "code",
     "collapsed": false,
     "input": [
      "%%timeit\n",
      "\n",
      "solutions = pd.DataFrame([dict([('probidx', idx_problem[0])] +\n",
      "                               list(pack_vectors(problem=idx_problem[1], **algo).items())) \n",
      "                          for idx_problem, algo in product(problems.iterrows(), algos)])"
     ],
     "language": "python",
     "metadata": {},
     "outputs": [
      {
       "output_type": "stream",
       "stream": "stdout",
       "text": [
        "1 loops, best of 3: 4.65 s per loop\n"
       ]
      }
     ],
     "prompt_number": 18
    },
    {
     "cell_type": "code",
     "collapsed": false,
     "input": [
      "def parhelper(params):\n",
      "    from vectorpack import pack_vectors\n",
      "    idx_problem, algo = params\n",
      "    idx, problem = idx_problem\n",
      "    return dict([('probidx', idx)] + list(pack_vectors(problem=problem, **algo).items()))"
     ],
     "language": "python",
     "metadata": {},
     "outputs": [],
     "prompt_number": 33
    },
    {
     "cell_type": "code",
     "collapsed": false,
     "input": [
      "from IPython.parallel import Client\n",
      "c = Client()\n",
      "d = c[:]\n",
      "v = c.load_balanced_view()\n",
      "list(v.map(lambda x : 'Hello!', range(10)))"
     ],
     "language": "python",
     "metadata": {},
     "outputs": [
      {
       "metadata": {},
       "output_type": "pyout",
       "prompt_number": 38,
       "text": [
        "['Hello!',\n",
        " 'Hello!',\n",
        " 'Hello!',\n",
        " 'Hello!',\n",
        " 'Hello!',\n",
        " 'Hello!',\n",
        " 'Hello!',\n",
        " 'Hello!',\n",
        " 'Hello!',\n",
        " 'Hello!']"
       ]
      }
     ],
     "prompt_number": 38
    },
    {
     "cell_type": "code",
     "collapsed": false,
     "input": [
      "%%timeit\n",
      "\n",
      "solutions2 = pd.DataFrame(list(v.map(parhelper, product(problems.iterrows(), algos))))"
     ],
     "language": "python",
     "metadata": {},
     "outputs": [
      {
       "output_type": "stream",
       "stream": "stdout",
       "text": [
        "1 loops, best of 3: 1.36 s per loop\n"
       ]
      }
     ],
     "prompt_number": 41
    },
    {
     "cell_type": "code",
     "collapsed": false,
     "input": [
      "from multiprocessing import Pool\n",
      "p = Pool()"
     ],
     "language": "python",
     "metadata": {},
     "outputs": [],
     "prompt_number": 28
    },
    {
     "cell_type": "code",
     "collapsed": false,
     "input": [
      "%%timeit\n",
      "\n",
      "solutions3 = pd.DataFrame(p.map(parhelper, product(problems.iterrows(), algos)))"
     ],
     "language": "python",
     "metadata": {},
     "outputs": [
      {
       "output_type": "stream",
       "stream": "stdout",
       "text": [
        "1 loops, best of 3: 1.35 s per loop\n"
       ]
      }
     ],
     "prompt_number": 29
    },
    {
     "cell_type": "code",
     "collapsed": false,
     "input": [],
     "language": "python",
     "metadata": {},
     "outputs": []
    }
   ],
   "metadata": {}
  }
 ]
}