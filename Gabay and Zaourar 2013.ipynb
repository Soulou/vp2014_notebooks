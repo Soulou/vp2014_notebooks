{
 "metadata": {
  "name": ""
 },
 "nbformat": 3,
 "nbformat_minor": 0,
 "worksheets": [
  {
   "cells": [
    {
     "cell_type": "code",
     "collapsed": false,
     "input": [
      "from vectorpack import generate_problem\n",
      "from vectorpack import pack_vectors\n",
      "\n",
      "algos = [\n",
      "    { 'pack' : 'pack_by_items', 'select' : 'pp',        'itemsort' : 'd:maxratio', 'binsort' : 'd:maxratio' },\n",
      "]\n",
      "\n",
      "problem = generate_problem(family='caprara2001lba', seed=0, cls=1, num_items=200)\n",
      "\n",
      "from vsvbp.heuristics import bfd_item_centric\n",
      "from vsvbp.measures import do_nothing\n",
      "print(pack_vectors(problem, family='stillwell_current', \n",
      "                   pack='pack_by_items', select='none', itemsort='none', binsort='none'))\n",
      "print(pack_vectors(problem, family='gabay2013vsv', \n",
      "                   heuristic=bfd_item_centric, item_measure=do_nothing, bin_measure=do_nothing))"
     ],
     "language": "python",
     "metadata": {},
     "outputs": [
      {
       "output_type": "stream",
       "stream": "stdout",
       "text": [
        "{'solver-githash': '__GITHASH__', 'datetime': datetime.datetime(2014, 2, 6, 23, 29, 32, 195101), 'binsort': 'none', 'mapping': [0, 0, 0, 1, 1, 2, 2, 1, 2, 3, 3, 3, 4, 3, 4, 5, 5, 5, 6, 4, 6, 6, 7, 4, 7, 7, 8, 6, 8, 8, 9, 9, 9, 10, 10, 11, 7, 11, 10, 11, 12, 12, 12, 12, 12, 13, 13, 14, 13, 14, 15, 15, 15, 16, 16, 14, 16, 17, 17, 17, 17, 18, 18, 16, 18, 19, 19, 19, 15, 18, 20, 20, 20, 21, 20, 21, 21, 22, 21, 22, 22, 23, 23, 23, 24, 22, 24, 24, 25, 25, 25, 26, 24, 26, 26, 27, 27, 27, 28, 28, 28, 29, 29, 0, 29, 30, 30, 30, 29, 31, 31, 31, 32, 32, 32, 33, 33, 33, 34, 34, 35, 28, 34, 35, 33, 35, 35, 36, 36, 31, 36, 36, 37, 37, 37, 38, 38, 9, 23, 38, 39, 39, 40, 39, 40, 40, 41, 1, 41, 41, 38, 42, 41, 42, 42, 43, 43, 43, 44, 42, 44, 44, 45, 45, 44, 45, 46, 46, 46, 47, 47, 47, 48, 48, 47, 48, 49, 35, 49, 49, 50, 50, 48, 51, 50, 51, 51, 51, 52, 52, 52, 53, 53, 53, 53, 54, 54, 54, 55, 55], 'family': 'stillwell_current', 'itemsort': 'none', 'select': 'none', 'verified': True, 'problem-argshash': '3c84b65db4b1980089303a8731bf1c4ba25bbdd4', 'failcount': 0, 'runtime': 0.352883528, 'split': 1, 'bincount': 56, 'pack': 'pack_by_items'}\n",
        "{'solver-githash': '__GITHASH__', 'datetime': datetime.datetime(2014, 2, 6, 23, 29, 32, 210137), 'mapping': [0, 0, 0, 1, 1, 2, 2, 1, 2, 3, 3, 3, 4, 3, 4, 5, 5, 5, 6, 4, 6, 6, 7, 4, 7, 7, 8, 6, 8, 8, 9, 9, 9, 10, 10, 11, 7, 11, 10, 11, 12, 12, 12, 12, 12, 13, 13, 14, 13, 14, 15, 15, 15, 16, 16, 14, 16, 17, 17, 17, 17, 18, 18, 16, 18, 19, 19, 19, 15, 18, 20, 20, 20, 21, 20, 21, 21, 22, 21, 22, 22, 23, 23, 23, 24, 22, 24, 24, 25, 25, 25, 26, 24, 26, 26, 27, 27, 27, 28, 28, 28, 29, 29, 0, 29, 30, 30, 30, 29, 31, 31, 31, 32, 32, 32, 33, 33, 33, 34, 34, 35, 28, 34, 35, 33, 35, 35, 36, 36, 31, 36, 36, 37, 37, 37, 38, 38, 9, 23, 38, 39, 39, 40, 39, 40, 40, 41, 1, 41, 41, 38, 42, 41, 42, 42, 43, 43, 43, 44, 42, 44, 44, 45, 45, 44, 45, 46, 46, 46, 47, 47, 47, 48, 48, 47, 48, 49, 35, 49, 49, 50, 50, 48, 51, 50, 51, 51, 51, 52, 52, 52, 53, 53, 53, 53, 54, 54, 54, 55, 55], 'family': 'gabay2013vsv', 'verified': True, 'problem-argshash': '3c84b65db4b1980089303a8731bf1c4ba25bbdd4', 'failcount': 0, 'bincount': 56, 'runtime': 0.014479579999999936}\n"
       ]
      }
     ],
     "prompt_number": 5
    },
    {
     "cell_type": "code",
     "collapsed": false,
     "input": [
      "himport pandas as pd\n",
      "\n",
      "results1 = pd.read_csv('Variable-Size-Vector-Bin-Packing/results/"
     ],
     "language": "python",
     "metadata": {},
     "outputs": []
    },
    {
     "cell_type": "code",
     "collapsed": false,
     "input": [
      "from vectorpack import generate_problem\n",
      "problem = generate_problem(family='gabay2013vsv', num_bins=10, num_resources=2, seed=1337)\n",
      "problem"
     ],
     "language": "python",
     "metadata": {},
     "outputs": [
      {
       "metadata": {},
       "output_type": "pyout",
       "prompt_number": 4,
       "text": [
        "{'args': {'family': 'gabay2013vsv',\n",
        "  'num_bins': 10,\n",
        "  'num_resources': 2,\n",
        "  'seed': 1337},\n",
        " 'argshash': '2334c5b66a5109ef39cfb2ac1a262701f2c68bb7',\n",
        " 'bins': [(76, 527),\n",
        "  (384, 594),\n",
        "  (953, 947),\n",
        "  (601, 802),\n",
        "  (642, 957),\n",
        "  (765, 829),\n",
        "  (481, 262),\n",
        "  (833, 215),\n",
        "  (378, 953),\n",
        "  (121, 445)],\n",
        " 'family': 'gabay2013vsv',\n",
        " 'items': [(87, 160),\n",
        "  (12, 115),\n",
        "  (42, 196),\n",
        "  (9, 90),\n",
        "  (304, 7),\n",
        "  (44, 73),\n",
        "  (157, 400),\n",
        "  (308, 135),\n",
        "  (25, 102),\n",
        "  (417, 668),\n",
        "  (178, 209),\n",
        "  (347, 88),\n",
        "  (318, 679),\n",
        "  (105, 325),\n",
        "  (619, 468),\n",
        "  (44, 413),\n",
        "  (40, 202),\n",
        "  (560, 17),\n",
        "  (42, 186),\n",
        "  (546, 726),\n",
        "  (299, 169),\n",
        "  (269, 158)]}"
       ]
      }
     ],
     "prompt_number": 4
    },
    {
     "cell_type": "code",
     "collapsed": false,
     "input": [
      "print(pack_vectors(problem, family='stillwell_current', \n",
      "                   pack='pack_by_items', select='none', itemsort='none', binsort='none'))\n",
      "print(pack_vectors(problem, family='gabay2013vsv', \n",
      "                   heuristic=bfd_item_centric, item_measure=do_nothing, bin_measure=do_nothing))"
     ],
     "language": "python",
     "metadata": {},
     "outputs": [
      {
       "output_type": "stream",
       "stream": "stdout",
       "text": [
        "{'solver-githash': '__GITHASH__', 'datetime': datetime.datetime(2014, 2, 6, 23, 29, 36, 910842), 'binsort': 'none', 'mapping': [0, 0, 0, 1, 1, 2, 2, 1, 2, 3, 3, 3, 4, 3, 4, 5, 5, 5, 6, 4, 6, 6, 7, 4, 7, 7, 8, 6, 8, 8, 9, 9, 9, 10, 10, 11, 7, 11, 10, 11, 12, 12, 12, 12, 12, 13, 13, 14, 13, 14, 15, 15, 15, 16, 16, 14, 16, 17, 17, 17, 17, 18, 18, 16, 18, 19, 19, 19, 15, 18, 20, 20, 20, 21, 20, 21, 21, 22, 21, 22, 22, 23, 23, 23, 24, 22, 24, 24, 25, 25, 25, 26, 24, 26, 26, 27, 27, 27, 28, 28, 28, 29, 29, 0, 29, 30, 30, 30, 29, 31, 31, 31, 32, 32, 32, 33, 33, 33, 34, 34, 35, 28, 34, 35, 33, 35, 35, 36, 36, 31, 36, 36, 37, 37, 37, 38, 38, 9, 23, 38, 39, 39, 40, 39, 40, 40, 41, 1, 41, 41, 38, 42, 41, 42, 42, 43, 43, 43, 44, 42, 44, 44, 45, 45, 44, 45, 46, 46, 46, 47, 47, 47, 48, 48, 47, 48, 49, 35, 49, 49, 50, 50, 48, 51, 50, 51, 51, 51, 52, 52, 52, 53, 53, 53, 53, 54, 54, 54, 55, 55], 'family': 'stillwell_current', 'itemsort': 'none', 'select': 'none', 'verified': True, 'problem-argshash': '3c84b65db4b1980089303a8731bf1c4ba25bbdd4', 'failcount': 0, 'runtime': 0.3592419010000001, 'split': 1, 'bincount': 56, 'pack': 'pack_by_items'}\n",
        "{'solver-githash': '__GITHASH__', 'datetime': datetime.datetime(2014, 2, 6, 23, 29, 36, 925829), 'mapping': [0, 0, 0, 1, 1, 2, 2, 1, 2, 3, 3, 3, 4, 3, 4, 5, 5, 5, 6, 4, 6, 6, 7, 4, 7, 7, 8, 6, 8, 8, 9, 9, 9, 10, 10, 11, 7, 11, 10, 11, 12, 12, 12, 12, 12, 13, 13, 14, 13, 14, 15, 15, 15, 16, 16, 14, 16, 17, 17, 17, 17, 18, 18, 16, 18, 19, 19, 19, 15, 18, 20, 20, 20, 21, 20, 21, 21, 22, 21, 22, 22, 23, 23, 23, 24, 22, 24, 24, 25, 25, 25, 26, 24, 26, 26, 27, 27, 27, 28, 28, 28, 29, 29, 0, 29, 30, 30, 30, 29, 31, 31, 31, 32, 32, 32, 33, 33, 33, 34, 34, 35, 28, 34, 35, 33, 35, 35, 36, 36, 31, 36, 36, 37, 37, 37, 38, 38, 9, 23, 38, 39, 39, 40, 39, 40, 40, 41, 1, 41, 41, 38, 42, 41, 42, 42, 43, 43, 43, 44, 42, 44, 44, 45, 45, 44, 45, 46, 46, 46, 47, 47, 47, 48, 48, 47, 48, 49, 35, 49, 49, 50, 50, 48, 51, 50, 51, 51, 51, 52, 52, 52, 53, 53, 53, 53, 54, 54, 54, 55, 55], 'family': 'gabay2013vsv', 'verified': True, 'problem-argshash': '3c84b65db4b1980089303a8731bf1c4ba25bbdd4', 'failcount': 0, 'bincount': 56, 'runtime': 0.014627892999999892}\n"
       ]
      }
     ],
     "prompt_number": 6
    },
    {
     "cell_type": "code",
     "collapsed": false,
     "input": [],
     "language": "python",
     "metadata": {},
     "outputs": []
    }
   ],
   "metadata": {}
  }
 ]
}