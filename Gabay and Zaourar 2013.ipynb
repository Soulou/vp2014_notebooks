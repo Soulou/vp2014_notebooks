{
 "metadata": {
  "name": ""
 },
 "nbformat": 3,
 "nbformat_minor": 0,
 "worksheets": [
  {
   "cells": [
    {
     "cell_type": "code",
     "collapsed": false,
     "input": [
      "from vectorpack import generate_problem\n",
      "from vectorpack import pack_vectors\n",
      "\n",
      "algos = [\n",
      "    { 'pack' : 'pack_by_items', 'select' : 'pp',        'itemsort' : 'd:maxratio', 'binsort' : 'd:maxratio' },\n",
      "]\n",
      "\n",
      "problem = generate_problem(family='caprara2001lba', seed=0, cls=1, num_items=200)\n",
      "\n",
      "print(pack_vectors(problem, family='stillwell_current', \n",
      "                   pack='pack_by_items', select='none', itemsort='none', binsort='none'))\n",
      "print(pack_vectors(problem, family='gabay2013vsv', \n",
      "                   heuristic='bfd_item_centric', item_measure='do_nothing', bin_measure='do_nothing'))"
     ],
     "language": "python",
     "metadata": {},
     "outputs": [
      {
       "output_type": "stream",
       "stream": "stdout",
       "text": [
        "{'problem-argshash': '3c84b65db4b1980089303a8731bf1c4ba25bbdd4', 'verified': True, 'failcount': 0, 'bincount': 56, 'solver-githash': '__GITHASH__', 'datetime': datetime.datetime(2014, 2, 7, 12, 7, 34, 98216), 'algo-runtime': 0.3624761249999999, 'mapping': [0, 0, 0, 1, 1, 2, 2, 1, 2, 3, 3, 3, 4, 3, 4, 5, 5, 5, 6, 4, 6, 6, 7, 4, 7, 7, 8, 6, 8, 8, 9, 9, 9, 10, 10, 11, 7, 11, 10, 11, 12, 12, 12, 12, 12, 13, 13, 14, 13, 14, 15, 15, 15, 16, 16, 14, 16, 17, 17, 17, 17, 18, 18, 16, 18, 19, 19, 19, 15, 18, 20, 20, 20, 21, 20, 21, 21, 22, 21, 22, 22, 23, 23, 23, 24, 22, 24, 24, 25, 25, 25, 26, 24, 26, 26, 27, 27, 27, 28, 28, 28, 29, 29, 0, 29, 30, 30, 30, 29, 31, 31, 31, 32, 32, 32, 33, 33, 33, 34, 34, 35, 28, 34, 35, 33, 35, 35, 36, 36, 31, 36, 36, 37, 37, 37, 38, 38, 9, 23, 38, 39, 39, 40, 39, 40, 40, 41, 1, 41, 41, 38, 42, 41, 42, 42, 43, 43, 43, 44, 42, 44, 44, 45, 45, 44, 45, 46, 46, 46, 47, 47, 47, 48, 48, 47, 48, 49, 35, 49, 49, 50, 50, 48, 51, 50, 51, 51, 51, 52, 52, 52, 53, 53, 53, 53, 54, 54, 54, 55, 55], 'total-runtime': 0.362516203, 'kwargs': {'itemsort': 'none', 'select': 'none', 'binsort': 'none', 'pack': 'pack_by_items', 'family': 'stillwell_current'}, 'family': 'stillwell_current'}\n",
        "{'algorithm-runtime': 0.015556372999999901, 'problem-argshash': '3c84b65db4b1980089303a8731bf1c4ba25bbdd4', 'verified': True, 'failcount': 0, 'bincount': 56, 'solver-githash': '__GITHASH__', 'datetime': datetime.datetime(2014, 2, 7, 12, 7, 34, 114850), 'mapping': [0, 0, 0, 1, 1, 2, 2, 1, 2, 3, 3, 3, 4, 3, 4, 5, 5, 5, 6, 4, 6, 6, 7, 4, 7, 7, 8, 6, 8, 8, 9, 9, 9, 10, 10, 11, 7, 11, 10, 11, 12, 12, 12, 12, 12, 13, 13, 14, 13, 14, 15, 15, 15, 16, 16, 14, 16, 17, 17, 17, 17, 18, 18, 16, 18, 19, 19, 19, 15, 18, 20, 20, 20, 21, 20, 21, 21, 22, 21, 22, 22, 23, 23, 23, 24, 22, 24, 24, 25, 25, 25, 26, 24, 26, 26, 27, 27, 27, 28, 28, 28, 29, 29, 0, 29, 30, 30, 30, 29, 31, 31, 31, 32, 32, 32, 33, 33, 33, 34, 34, 35, 28, 34, 35, 33, 35, 35, 36, 36, 31, 36, 36, 37, 37, 37, 38, 38, 9, 23, 38, 39, 39, 40, 39, 40, 40, 41, 1, 41, 41, 38, 42, 41, 42, 42, 43, 43, 43, 44, 42, 44, 44, 45, 45, 44, 45, 46, 46, 46, 47, 47, 47, 48, 48, 47, 48, 49, 35, 49, 49, 50, 50, 48, 51, 50, 51, 51, 51, 52, 52, 52, 53, 53, 53, 53, 54, 54, 54, 55, 55], 'total-runtime': 0.01625544099999998, 'kwargs': {'heuristic': 'bfd_item_centric', 'bin_measure': 'do_nothing', 'item_measure': 'do_nothing', 'family': 'gabay2013vsv'}, 'family': 'gabay2013vsv'}\n"
       ]
      }
     ],
     "prompt_number": 2
    },
    {
     "cell_type": "code",
     "collapsed": false,
     "input": [
      "himport pandas as pd\n",
      "\n",
      "results1 = pd.read_csv('Variable-Size-Vector-Bin-Packing/results/"
     ],
     "language": "python",
     "metadata": {},
     "outputs": []
    },
    {
     "cell_type": "code",
     "collapsed": false,
     "input": [
      "from vectorpack import generate_problem\n",
      "problem = generate_problem(family='gabay2013vsv', num_bins=10, num_resources=2, seed=1337, bin_generator='similar_items')\n",
      "problem"
     ],
     "language": "python",
     "metadata": {},
     "outputs": [
      {
       "ename": "TypeError",
       "evalue": "similar_items() missing 1 required positional argument: 'base_item'",
       "output_type": "pyerr",
       "traceback": [
        "\u001b[1;31m---------------------------------------------------------------------------\u001b[0m\n\u001b[1;31mTypeError\u001b[0m                                 Traceback (most recent call last)",
        "\u001b[1;32m<ipython-input-5-5ebb57e4c185>\u001b[0m in \u001b[0;36m<module>\u001b[1;34m()\u001b[0m\n\u001b[0;32m      1\u001b[0m \u001b[1;32mfrom\u001b[0m \u001b[0mvectorpack\u001b[0m \u001b[1;32mimport\u001b[0m \u001b[0mgenerate_problem\u001b[0m\u001b[1;33m\u001b[0m\u001b[0m\n\u001b[1;32m----> 2\u001b[1;33m \u001b[0mproblem\u001b[0m \u001b[1;33m=\u001b[0m \u001b[0mgenerate_problem\u001b[0m\u001b[1;33m(\u001b[0m\u001b[0mfamily\u001b[0m\u001b[1;33m=\u001b[0m\u001b[1;34m'gabay2013vsv'\u001b[0m\u001b[1;33m,\u001b[0m \u001b[0mnum_bins\u001b[0m\u001b[1;33m=\u001b[0m\u001b[1;36m10\u001b[0m\u001b[1;33m,\u001b[0m \u001b[0mnum_resources\u001b[0m\u001b[1;33m=\u001b[0m\u001b[1;36m2\u001b[0m\u001b[1;33m,\u001b[0m \u001b[0mseed\u001b[0m\u001b[1;33m=\u001b[0m\u001b[1;36m1337\u001b[0m\u001b[1;33m,\u001b[0m \u001b[0mbin_generator\u001b[0m\u001b[1;33m=\u001b[0m\u001b[1;34m'similar_items'\u001b[0m\u001b[1;33m)\u001b[0m\u001b[1;33m\u001b[0m\u001b[0m\n\u001b[0m\u001b[0;32m      3\u001b[0m \u001b[0mproblem\u001b[0m\u001b[1;33m\u001b[0m\u001b[0m\n",
        "\u001b[1;32m/home/marklee/.pyenv/versions/vp2014_notebooks/lib/python3.3/site-packages/vectorpack/__init__.py\u001b[0m in \u001b[0;36mgenerate_problem\u001b[1;34m(**kwargs)\u001b[0m\n\u001b[0;32m     54\u001b[0m     \u001b[0mmodule\u001b[0m \u001b[1;33m=\u001b[0m \u001b[0mimport_module\u001b[0m\u001b[1;33m(\u001b[0m\u001b[1;34m'.{:s}'\u001b[0m\u001b[1;33m.\u001b[0m\u001b[0mformat\u001b[0m\u001b[1;33m(\u001b[0m\u001b[0mfamily\u001b[0m\u001b[1;33m)\u001b[0m\u001b[1;33m,\u001b[0m \u001b[0mpackage\u001b[0m\u001b[1;33m=\u001b[0m\u001b[1;34m'vectorpack'\u001b[0m\u001b[1;33m)\u001b[0m\u001b[1;33m\u001b[0m\u001b[0m\n\u001b[0;32m     55\u001b[0m \u001b[1;33m\u001b[0m\u001b[0m\n\u001b[1;32m---> 56\u001b[1;33m     \u001b[0mresult\u001b[0m \u001b[1;33m=\u001b[0m \u001b[0mmodule\u001b[0m\u001b[1;33m.\u001b[0m\u001b[0mgenerate_problem\u001b[0m\u001b[1;33m(\u001b[0m\u001b[1;33m**\u001b[0m\u001b[0mkwargs\u001b[0m\u001b[1;33m)\u001b[0m\u001b[1;33m\u001b[0m\u001b[0m\n\u001b[0m\u001b[0;32m     57\u001b[0m \u001b[1;33m\u001b[0m\u001b[0m\n\u001b[0;32m     58\u001b[0m     result.update({\n",
        "\u001b[1;32m/home/marklee/.pyenv/versions/vp2014_notebooks/lib/python3.3/site-packages/vectorpack/gabay2013vsv/generators.py\u001b[0m in \u001b[0;36mgenerate_problem\u001b[1;34m(**kwargs)\u001b[0m\n\u001b[0;32m     27\u001b[0m \u001b[1;33m\u001b[0m\u001b[0m\n\u001b[0;32m     28\u001b[0m     instance = generator.generator(num_bins, num_resources, min_fill, \n\u001b[1;32m---> 29\u001b[1;33m                          bin_generator=bin_generator, seed=seed, **genkwargs)\n\u001b[0m\u001b[0;32m     30\u001b[0m \u001b[1;33m\u001b[0m\u001b[0m\n\u001b[0;32m     31\u001b[0m     \u001b[0mitems\u001b[0m \u001b[1;33m=\u001b[0m \u001b[1;33m[\u001b[0m\u001b[0mtuple\u001b[0m\u001b[1;33m(\u001b[0m\u001b[0mitem\u001b[0m\u001b[1;33m.\u001b[0m\u001b[0mrequirements\u001b[0m\u001b[1;33m[\u001b[0m\u001b[1;33m:\u001b[0m\u001b[1;33m]\u001b[0m\u001b[1;33m)\u001b[0m \u001b[1;32mfor\u001b[0m \u001b[0mitem\u001b[0m \u001b[1;32min\u001b[0m \u001b[0minstance\u001b[0m\u001b[1;33m.\u001b[0m\u001b[0mitems\u001b[0m\u001b[1;33m]\u001b[0m\u001b[1;33m\u001b[0m\u001b[0m\n",
        "\u001b[1;32m/home/marklee/.pyenv/versions/vp2014_notebooks/lib/python3.3/site-packages/vsvbp-0.0.1-py3.3.egg/vsvbp/generator.py\u001b[0m in \u001b[0;36mgenerator\u001b[1;34m(num_bins, num_resources, min_fill, bin_generator, seed, **kwargs)\u001b[0m\n\u001b[0;32m    197\u001b[0m     \u001b[0mbins\u001b[0m \u001b[1;33m=\u001b[0m \u001b[1;33m[\u001b[0m\u001b[1;33m]\u001b[0m\u001b[1;33m\u001b[0m\u001b[0m\n\u001b[0;32m    198\u001b[0m     \u001b[1;32mfor\u001b[0m \u001b[0mi\u001b[0m \u001b[1;32min\u001b[0m \u001b[0mrange\u001b[0m\u001b[1;33m(\u001b[0m\u001b[0mnum_bins\u001b[0m\u001b[1;33m)\u001b[0m\u001b[1;33m:\u001b[0m\u001b[1;33m\u001b[0m\u001b[0m\n\u001b[1;32m--> 199\u001b[1;33m         \u001b[0mit\u001b[0m\u001b[1;33m,\u001b[0m \u001b[0mbi\u001b[0m \u001b[1;33m=\u001b[0m \u001b[0mbin_generator\u001b[0m\u001b[1;33m(\u001b[0m\u001b[0mnum_resources\u001b[0m\u001b[1;33m,\u001b[0m \u001b[0mmin_fill\u001b[0m\u001b[1;33m,\u001b[0m \u001b[1;33m**\u001b[0m\u001b[0mkwargs\u001b[0m\u001b[1;33m)\u001b[0m\u001b[1;33m\u001b[0m\u001b[0m\n\u001b[0m\u001b[0;32m    200\u001b[0m         \u001b[0mitems\u001b[0m\u001b[1;33m.\u001b[0m\u001b[0mextend\u001b[0m\u001b[1;33m(\u001b[0m\u001b[0mit\u001b[0m\u001b[1;33m)\u001b[0m\u001b[1;33m\u001b[0m\u001b[0m\n\u001b[0;32m    201\u001b[0m         \u001b[0mbins\u001b[0m\u001b[1;33m.\u001b[0m\u001b[0mappend\u001b[0m\u001b[1;33m(\u001b[0m\u001b[0mbi\u001b[0m\u001b[1;33m)\u001b[0m\u001b[1;33m\u001b[0m\u001b[0m\n",
        "\u001b[1;31mTypeError\u001b[0m: similar_items() missing 1 required positional argument: 'base_item'"
       ]
      }
     ],
     "prompt_number": 5
    },
    {
     "cell_type": "code",
     "collapsed": false,
     "input": [
      "print(pack_vectors(problem, family='stillwell_current', \n",
      "                   pack='pack_by_items', select='none', itemsort='none', binsort='none'))\n",
      "print(pack_vectors(problem, family='gabay2013vsv', \n",
      "                   heuristic=bfd_item_centric, item_measure=do_nothing, bin_measure=do_nothing))"
     ],
     "language": "python",
     "metadata": {},
     "outputs": [
      {
       "output_type": "stream",
       "stream": "stdout",
       "text": [
        "{'solver-githash': '__GITHASH__', 'datetime': datetime.datetime(2014, 2, 6, 23, 29, 36, 910842), 'binsort': 'none', 'mapping': [0, 0, 0, 1, 1, 2, 2, 1, 2, 3, 3, 3, 4, 3, 4, 5, 5, 5, 6, 4, 6, 6, 7, 4, 7, 7, 8, 6, 8, 8, 9, 9, 9, 10, 10, 11, 7, 11, 10, 11, 12, 12, 12, 12, 12, 13, 13, 14, 13, 14, 15, 15, 15, 16, 16, 14, 16, 17, 17, 17, 17, 18, 18, 16, 18, 19, 19, 19, 15, 18, 20, 20, 20, 21, 20, 21, 21, 22, 21, 22, 22, 23, 23, 23, 24, 22, 24, 24, 25, 25, 25, 26, 24, 26, 26, 27, 27, 27, 28, 28, 28, 29, 29, 0, 29, 30, 30, 30, 29, 31, 31, 31, 32, 32, 32, 33, 33, 33, 34, 34, 35, 28, 34, 35, 33, 35, 35, 36, 36, 31, 36, 36, 37, 37, 37, 38, 38, 9, 23, 38, 39, 39, 40, 39, 40, 40, 41, 1, 41, 41, 38, 42, 41, 42, 42, 43, 43, 43, 44, 42, 44, 44, 45, 45, 44, 45, 46, 46, 46, 47, 47, 47, 48, 48, 47, 48, 49, 35, 49, 49, 50, 50, 48, 51, 50, 51, 51, 51, 52, 52, 52, 53, 53, 53, 53, 54, 54, 54, 55, 55], 'family': 'stillwell_current', 'itemsort': 'none', 'select': 'none', 'verified': True, 'problem-argshash': '3c84b65db4b1980089303a8731bf1c4ba25bbdd4', 'failcount': 0, 'runtime': 0.3592419010000001, 'split': 1, 'bincount': 56, 'pack': 'pack_by_items'}\n",
        "{'solver-githash': '__GITHASH__', 'datetime': datetime.datetime(2014, 2, 6, 23, 29, 36, 925829), 'mapping': [0, 0, 0, 1, 1, 2, 2, 1, 2, 3, 3, 3, 4, 3, 4, 5, 5, 5, 6, 4, 6, 6, 7, 4, 7, 7, 8, 6, 8, 8, 9, 9, 9, 10, 10, 11, 7, 11, 10, 11, 12, 12, 12, 12, 12, 13, 13, 14, 13, 14, 15, 15, 15, 16, 16, 14, 16, 17, 17, 17, 17, 18, 18, 16, 18, 19, 19, 19, 15, 18, 20, 20, 20, 21, 20, 21, 21, 22, 21, 22, 22, 23, 23, 23, 24, 22, 24, 24, 25, 25, 25, 26, 24, 26, 26, 27, 27, 27, 28, 28, 28, 29, 29, 0, 29, 30, 30, 30, 29, 31, 31, 31, 32, 32, 32, 33, 33, 33, 34, 34, 35, 28, 34, 35, 33, 35, 35, 36, 36, 31, 36, 36, 37, 37, 37, 38, 38, 9, 23, 38, 39, 39, 40, 39, 40, 40, 41, 1, 41, 41, 38, 42, 41, 42, 42, 43, 43, 43, 44, 42, 44, 44, 45, 45, 44, 45, 46, 46, 46, 47, 47, 47, 48, 48, 47, 48, 49, 35, 49, 49, 50, 50, 48, 51, 50, 51, 51, 51, 52, 52, 52, 53, 53, 53, 53, 54, 54, 54, 55, 55], 'family': 'gabay2013vsv', 'verified': True, 'problem-argshash': '3c84b65db4b1980089303a8731bf1c4ba25bbdd4', 'failcount': 0, 'bincount': 56, 'runtime': 0.014627892999999892}\n"
       ]
      }
     ],
     "prompt_number": 6
    },
    {
     "cell_type": "code",
     "collapsed": false,
     "input": [],
     "language": "python",
     "metadata": {},
     "outputs": []
    }
   ],
   "metadata": {}
  }
 ]
}