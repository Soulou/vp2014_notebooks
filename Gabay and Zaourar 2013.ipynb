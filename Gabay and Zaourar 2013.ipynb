{
 "metadata": {
  "name": ""
 },
 "nbformat": 3,
 "nbformat_minor": 0,
 "worksheets": [
  {
   "cells": [
    {
     "cell_type": "code",
     "collapsed": false,
     "input": [
      "from vectorpack.genprob import generate_problem_caprara\n",
      "from vectorpack import pack_vectors\n",
      "algos = [\n",
      "    { 'pack' : 'pack_by_items', 'select' : 'pp',        'itemsort' : 'd:maxratio', 'binsort' : 'd:maxratio' },\n",
      "]\n",
      "\n",
      "problem = generate_problem_caprara(seed=0, cls=1, num_items=200)\n",
      "\n",
      "from vectorpack.interface import pack_vectors_gabay2013vsv\n",
      "from vsvbp.heuristics import bfd_item_centric\n",
      "from vsvbp.measures import do_nothing\n",
      "print(pack_vectors(problem=problem, pack='pack_by_items', select='none', itemsort='none', binsort='none'))\n",
      "print(pack_vectors_gabay2013vsv(problem=problem, heuristic=bfd_item_centric, item_measure=do_nothing, bin_measure=do_nothing))"
     ],
     "language": "python",
     "metadata": {},
     "outputs": []
    },
    {
     "cell_type": "code",
     "collapsed": false,
     "input": [
      "import pandas as pd\n",
      "\n",
      "results1 = pd.read_csv('Variable-Size-Vector-Bin-Packing/results/"
     ],
     "language": "python",
     "metadata": {},
     "outputs": []
    }
   ],
   "metadata": {}
  }
 ]
}